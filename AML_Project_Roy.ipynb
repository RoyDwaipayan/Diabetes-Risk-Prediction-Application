{
  "cells": [
    {
      "cell_type": "code",
      "execution_count": null,
      "id": "ad7b1a2e-4094-42bf-9164-db38077b6140",
      "metadata": {
        "id": "ad7b1a2e-4094-42bf-9164-db38077b6140"
      },
      "outputs": [],
      "source": [
        "import pandas as pd\n",
        "import numpy as np\n",
        "from sklearn.model_selection import GridSearchCV, train_test_split\n",
        "from sklearn.ensemble import RandomForestClassifier\n",
        "from sklearn.linear_model import LogisticRegression\n",
        "import xgboost as xgb\n",
        "import lightgbm as lgb\n",
        "from sklearn.preprocessing import FunctionTransformer,StandardScaler, OneHotEncoder\n",
        "from sklearn.compose import ColumnTransformer\n",
        "from sklearn.pipeline import Pipeline\n",
        "from sklearn.impute import SimpleImputer\n",
        "from scipy.stats import boxcox\n",
        "from sklearn.utils import class_weight\n",
        "from imblearn.over_sampling import SMOTE\n",
        "from collections import Counter\n",
        "\n",
        "from imblearn.combine import SMOTEENN\n",
        "from sklearn.decomposition import PCA\n",
        "from sklearn.metrics import mean_squared_error, r2_score, accuracy_score, recall_score, confusion_matrix, ConfusionMatrixDisplay, precision_score, f1_score\n",
        "\n",
        "import tensorflow as tf\n",
        "from tensorflow.keras.models import Sequential\n",
        "from tensorflow.keras.layers import Dense, Dropout\n",
        "from tensorflow.keras.metrics import Recall\n",
        "\n",
        "import matplotlib.pyplot as plt"
      ]
    },
    {
      "cell_type": "code",
      "execution_count": null,
      "id": "4804a15d-2254-4b89-89e8-be729a82862e",
      "metadata": {
        "colab": {
          "base_uri": "https://localhost:8080/",
          "height": 236
        },
        "id": "4804a15d-2254-4b89-89e8-be729a82862e",
        "outputId": "093d2d6b-90ca-4a8b-9706-6a4303753f19"
      },
      "outputs": [
        {
          "output_type": "execute_result",
          "data": {
            "text/plain": [
              "   Diabetes_binary  HighBP  HighChol  CholCheck   BMI  Smoker  Stroke  \\\n",
              "0              0.0     1.0       1.0        1.0  40.0     1.0     0.0   \n",
              "1              0.0     0.0       0.0        0.0  25.0     1.0     0.0   \n",
              "2              0.0     1.0       1.0        1.0  28.0     0.0     0.0   \n",
              "3              0.0     1.0       0.0        1.0  27.0     0.0     0.0   \n",
              "4              0.0     1.0       1.0        1.0  24.0     0.0     0.0   \n",
              "\n",
              "   HeartDiseaseorAttack  PhysActivity  Fruits  ...  AnyHealthcare  \\\n",
              "0                   0.0           0.0     0.0  ...            1.0   \n",
              "1                   0.0           1.0     0.0  ...            0.0   \n",
              "2                   0.0           0.0     1.0  ...            1.0   \n",
              "3                   0.0           1.0     1.0  ...            1.0   \n",
              "4                   0.0           1.0     1.0  ...            1.0   \n",
              "\n",
              "   NoDocbcCost  GenHlth  MentHlth  PhysHlth  DiffWalk  Sex   Age  Education  \\\n",
              "0          0.0      5.0      18.0      15.0       1.0  0.0   9.0        4.0   \n",
              "1          1.0      3.0       0.0       0.0       0.0  0.0   7.0        6.0   \n",
              "2          1.0      5.0      30.0      30.0       1.0  0.0   9.0        4.0   \n",
              "3          0.0      2.0       0.0       0.0       0.0  0.0  11.0        3.0   \n",
              "4          0.0      2.0       3.0       0.0       0.0  0.0  11.0        5.0   \n",
              "\n",
              "   Income  \n",
              "0     3.0  \n",
              "1     1.0  \n",
              "2     8.0  \n",
              "3     6.0  \n",
              "4     4.0  \n",
              "\n",
              "[5 rows x 22 columns]"
            ],
            "text/html": [
              "\n",
              "  <div id=\"df-c910a8b0-b403-408a-a8c2-004e105b13ed\" class=\"colab-df-container\">\n",
              "    <div>\n",
              "<style scoped>\n",
              "    .dataframe tbody tr th:only-of-type {\n",
              "        vertical-align: middle;\n",
              "    }\n",
              "\n",
              "    .dataframe tbody tr th {\n",
              "        vertical-align: top;\n",
              "    }\n",
              "\n",
              "    .dataframe thead th {\n",
              "        text-align: right;\n",
              "    }\n",
              "</style>\n",
              "<table border=\"1\" class=\"dataframe\">\n",
              "  <thead>\n",
              "    <tr style=\"text-align: right;\">\n",
              "      <th></th>\n",
              "      <th>Diabetes_binary</th>\n",
              "      <th>HighBP</th>\n",
              "      <th>HighChol</th>\n",
              "      <th>CholCheck</th>\n",
              "      <th>BMI</th>\n",
              "      <th>Smoker</th>\n",
              "      <th>Stroke</th>\n",
              "      <th>HeartDiseaseorAttack</th>\n",
              "      <th>PhysActivity</th>\n",
              "      <th>Fruits</th>\n",
              "      <th>...</th>\n",
              "      <th>AnyHealthcare</th>\n",
              "      <th>NoDocbcCost</th>\n",
              "      <th>GenHlth</th>\n",
              "      <th>MentHlth</th>\n",
              "      <th>PhysHlth</th>\n",
              "      <th>DiffWalk</th>\n",
              "      <th>Sex</th>\n",
              "      <th>Age</th>\n",
              "      <th>Education</th>\n",
              "      <th>Income</th>\n",
              "    </tr>\n",
              "  </thead>\n",
              "  <tbody>\n",
              "    <tr>\n",
              "      <th>0</th>\n",
              "      <td>0.0</td>\n",
              "      <td>1.0</td>\n",
              "      <td>1.0</td>\n",
              "      <td>1.0</td>\n",
              "      <td>40.0</td>\n",
              "      <td>1.0</td>\n",
              "      <td>0.0</td>\n",
              "      <td>0.0</td>\n",
              "      <td>0.0</td>\n",
              "      <td>0.0</td>\n",
              "      <td>...</td>\n",
              "      <td>1.0</td>\n",
              "      <td>0.0</td>\n",
              "      <td>5.0</td>\n",
              "      <td>18.0</td>\n",
              "      <td>15.0</td>\n",
              "      <td>1.0</td>\n",
              "      <td>0.0</td>\n",
              "      <td>9.0</td>\n",
              "      <td>4.0</td>\n",
              "      <td>3.0</td>\n",
              "    </tr>\n",
              "    <tr>\n",
              "      <th>1</th>\n",
              "      <td>0.0</td>\n",
              "      <td>0.0</td>\n",
              "      <td>0.0</td>\n",
              "      <td>0.0</td>\n",
              "      <td>25.0</td>\n",
              "      <td>1.0</td>\n",
              "      <td>0.0</td>\n",
              "      <td>0.0</td>\n",
              "      <td>1.0</td>\n",
              "      <td>0.0</td>\n",
              "      <td>...</td>\n",
              "      <td>0.0</td>\n",
              "      <td>1.0</td>\n",
              "      <td>3.0</td>\n",
              "      <td>0.0</td>\n",
              "      <td>0.0</td>\n",
              "      <td>0.0</td>\n",
              "      <td>0.0</td>\n",
              "      <td>7.0</td>\n",
              "      <td>6.0</td>\n",
              "      <td>1.0</td>\n",
              "    </tr>\n",
              "    <tr>\n",
              "      <th>2</th>\n",
              "      <td>0.0</td>\n",
              "      <td>1.0</td>\n",
              "      <td>1.0</td>\n",
              "      <td>1.0</td>\n",
              "      <td>28.0</td>\n",
              "      <td>0.0</td>\n",
              "      <td>0.0</td>\n",
              "      <td>0.0</td>\n",
              "      <td>0.0</td>\n",
              "      <td>1.0</td>\n",
              "      <td>...</td>\n",
              "      <td>1.0</td>\n",
              "      <td>1.0</td>\n",
              "      <td>5.0</td>\n",
              "      <td>30.0</td>\n",
              "      <td>30.0</td>\n",
              "      <td>1.0</td>\n",
              "      <td>0.0</td>\n",
              "      <td>9.0</td>\n",
              "      <td>4.0</td>\n",
              "      <td>8.0</td>\n",
              "    </tr>\n",
              "    <tr>\n",
              "      <th>3</th>\n",
              "      <td>0.0</td>\n",
              "      <td>1.0</td>\n",
              "      <td>0.0</td>\n",
              "      <td>1.0</td>\n",
              "      <td>27.0</td>\n",
              "      <td>0.0</td>\n",
              "      <td>0.0</td>\n",
              "      <td>0.0</td>\n",
              "      <td>1.0</td>\n",
              "      <td>1.0</td>\n",
              "      <td>...</td>\n",
              "      <td>1.0</td>\n",
              "      <td>0.0</td>\n",
              "      <td>2.0</td>\n",
              "      <td>0.0</td>\n",
              "      <td>0.0</td>\n",
              "      <td>0.0</td>\n",
              "      <td>0.0</td>\n",
              "      <td>11.0</td>\n",
              "      <td>3.0</td>\n",
              "      <td>6.0</td>\n",
              "    </tr>\n",
              "    <tr>\n",
              "      <th>4</th>\n",
              "      <td>0.0</td>\n",
              "      <td>1.0</td>\n",
              "      <td>1.0</td>\n",
              "      <td>1.0</td>\n",
              "      <td>24.0</td>\n",
              "      <td>0.0</td>\n",
              "      <td>0.0</td>\n",
              "      <td>0.0</td>\n",
              "      <td>1.0</td>\n",
              "      <td>1.0</td>\n",
              "      <td>...</td>\n",
              "      <td>1.0</td>\n",
              "      <td>0.0</td>\n",
              "      <td>2.0</td>\n",
              "      <td>3.0</td>\n",
              "      <td>0.0</td>\n",
              "      <td>0.0</td>\n",
              "      <td>0.0</td>\n",
              "      <td>11.0</td>\n",
              "      <td>5.0</td>\n",
              "      <td>4.0</td>\n",
              "    </tr>\n",
              "  </tbody>\n",
              "</table>\n",
              "<p>5 rows × 22 columns</p>\n",
              "</div>\n",
              "    <div class=\"colab-df-buttons\">\n",
              "\n",
              "  <div class=\"colab-df-container\">\n",
              "    <button class=\"colab-df-convert\" onclick=\"convertToInteractive('df-c910a8b0-b403-408a-a8c2-004e105b13ed')\"\n",
              "            title=\"Convert this dataframe to an interactive table.\"\n",
              "            style=\"display:none;\">\n",
              "\n",
              "  <svg xmlns=\"http://www.w3.org/2000/svg\" height=\"24px\" viewBox=\"0 -960 960 960\">\n",
              "    <path d=\"M120-120v-720h720v720H120Zm60-500h600v-160H180v160Zm220 220h160v-160H400v160Zm0 220h160v-160H400v160ZM180-400h160v-160H180v160Zm440 0h160v-160H620v160ZM180-180h160v-160H180v160Zm440 0h160v-160H620v160Z\"/>\n",
              "  </svg>\n",
              "    </button>\n",
              "\n",
              "  <style>\n",
              "    .colab-df-container {\n",
              "      display:flex;\n",
              "      gap: 12px;\n",
              "    }\n",
              "\n",
              "    .colab-df-convert {\n",
              "      background-color: #E8F0FE;\n",
              "      border: none;\n",
              "      border-radius: 50%;\n",
              "      cursor: pointer;\n",
              "      display: none;\n",
              "      fill: #1967D2;\n",
              "      height: 32px;\n",
              "      padding: 0 0 0 0;\n",
              "      width: 32px;\n",
              "    }\n",
              "\n",
              "    .colab-df-convert:hover {\n",
              "      background-color: #E2EBFA;\n",
              "      box-shadow: 0px 1px 2px rgba(60, 64, 67, 0.3), 0px 1px 3px 1px rgba(60, 64, 67, 0.15);\n",
              "      fill: #174EA6;\n",
              "    }\n",
              "\n",
              "    .colab-df-buttons div {\n",
              "      margin-bottom: 4px;\n",
              "    }\n",
              "\n",
              "    [theme=dark] .colab-df-convert {\n",
              "      background-color: #3B4455;\n",
              "      fill: #D2E3FC;\n",
              "    }\n",
              "\n",
              "    [theme=dark] .colab-df-convert:hover {\n",
              "      background-color: #434B5C;\n",
              "      box-shadow: 0px 1px 3px 1px rgba(0, 0, 0, 0.15);\n",
              "      filter: drop-shadow(0px 1px 2px rgba(0, 0, 0, 0.3));\n",
              "      fill: #FFFFFF;\n",
              "    }\n",
              "  </style>\n",
              "\n",
              "    <script>\n",
              "      const buttonEl =\n",
              "        document.querySelector('#df-c910a8b0-b403-408a-a8c2-004e105b13ed button.colab-df-convert');\n",
              "      buttonEl.style.display =\n",
              "        google.colab.kernel.accessAllowed ? 'block' : 'none';\n",
              "\n",
              "      async function convertToInteractive(key) {\n",
              "        const element = document.querySelector('#df-c910a8b0-b403-408a-a8c2-004e105b13ed');\n",
              "        const dataTable =\n",
              "          await google.colab.kernel.invokeFunction('convertToInteractive',\n",
              "                                                    [key], {});\n",
              "        if (!dataTable) return;\n",
              "\n",
              "        const docLinkHtml = 'Like what you see? Visit the ' +\n",
              "          '<a target=\"_blank\" href=https://colab.research.google.com/notebooks/data_table.ipynb>data table notebook</a>'\n",
              "          + ' to learn more about interactive tables.';\n",
              "        element.innerHTML = '';\n",
              "        dataTable['output_type'] = 'display_data';\n",
              "        await google.colab.output.renderOutput(dataTable, element);\n",
              "        const docLink = document.createElement('div');\n",
              "        docLink.innerHTML = docLinkHtml;\n",
              "        element.appendChild(docLink);\n",
              "      }\n",
              "    </script>\n",
              "  </div>\n",
              "\n",
              "\n",
              "<div id=\"df-33f0079a-765c-46fa-9dff-18bac37b6cf9\">\n",
              "  <button class=\"colab-df-quickchart\" onclick=\"quickchart('df-33f0079a-765c-46fa-9dff-18bac37b6cf9')\"\n",
              "            title=\"Suggest charts\"\n",
              "            style=\"display:none;\">\n",
              "\n",
              "<svg xmlns=\"http://www.w3.org/2000/svg\" height=\"24px\"viewBox=\"0 0 24 24\"\n",
              "     width=\"24px\">\n",
              "    <g>\n",
              "        <path d=\"M19 3H5c-1.1 0-2 .9-2 2v14c0 1.1.9 2 2 2h14c1.1 0 2-.9 2-2V5c0-1.1-.9-2-2-2zM9 17H7v-7h2v7zm4 0h-2V7h2v10zm4 0h-2v-4h2v4z\"/>\n",
              "    </g>\n",
              "</svg>\n",
              "  </button>\n",
              "\n",
              "<style>\n",
              "  .colab-df-quickchart {\n",
              "      --bg-color: #E8F0FE;\n",
              "      --fill-color: #1967D2;\n",
              "      --hover-bg-color: #E2EBFA;\n",
              "      --hover-fill-color: #174EA6;\n",
              "      --disabled-fill-color: #AAA;\n",
              "      --disabled-bg-color: #DDD;\n",
              "  }\n",
              "\n",
              "  [theme=dark] .colab-df-quickchart {\n",
              "      --bg-color: #3B4455;\n",
              "      --fill-color: #D2E3FC;\n",
              "      --hover-bg-color: #434B5C;\n",
              "      --hover-fill-color: #FFFFFF;\n",
              "      --disabled-bg-color: #3B4455;\n",
              "      --disabled-fill-color: #666;\n",
              "  }\n",
              "\n",
              "  .colab-df-quickchart {\n",
              "    background-color: var(--bg-color);\n",
              "    border: none;\n",
              "    border-radius: 50%;\n",
              "    cursor: pointer;\n",
              "    display: none;\n",
              "    fill: var(--fill-color);\n",
              "    height: 32px;\n",
              "    padding: 0;\n",
              "    width: 32px;\n",
              "  }\n",
              "\n",
              "  .colab-df-quickchart:hover {\n",
              "    background-color: var(--hover-bg-color);\n",
              "    box-shadow: 0 1px 2px rgba(60, 64, 67, 0.3), 0 1px 3px 1px rgba(60, 64, 67, 0.15);\n",
              "    fill: var(--button-hover-fill-color);\n",
              "  }\n",
              "\n",
              "  .colab-df-quickchart-complete:disabled,\n",
              "  .colab-df-quickchart-complete:disabled:hover {\n",
              "    background-color: var(--disabled-bg-color);\n",
              "    fill: var(--disabled-fill-color);\n",
              "    box-shadow: none;\n",
              "  }\n",
              "\n",
              "  .colab-df-spinner {\n",
              "    border: 2px solid var(--fill-color);\n",
              "    border-color: transparent;\n",
              "    border-bottom-color: var(--fill-color);\n",
              "    animation:\n",
              "      spin 1s steps(1) infinite;\n",
              "  }\n",
              "\n",
              "  @keyframes spin {\n",
              "    0% {\n",
              "      border-color: transparent;\n",
              "      border-bottom-color: var(--fill-color);\n",
              "      border-left-color: var(--fill-color);\n",
              "    }\n",
              "    20% {\n",
              "      border-color: transparent;\n",
              "      border-left-color: var(--fill-color);\n",
              "      border-top-color: var(--fill-color);\n",
              "    }\n",
              "    30% {\n",
              "      border-color: transparent;\n",
              "      border-left-color: var(--fill-color);\n",
              "      border-top-color: var(--fill-color);\n",
              "      border-right-color: var(--fill-color);\n",
              "    }\n",
              "    40% {\n",
              "      border-color: transparent;\n",
              "      border-right-color: var(--fill-color);\n",
              "      border-top-color: var(--fill-color);\n",
              "    }\n",
              "    60% {\n",
              "      border-color: transparent;\n",
              "      border-right-color: var(--fill-color);\n",
              "    }\n",
              "    80% {\n",
              "      border-color: transparent;\n",
              "      border-right-color: var(--fill-color);\n",
              "      border-bottom-color: var(--fill-color);\n",
              "    }\n",
              "    90% {\n",
              "      border-color: transparent;\n",
              "      border-bottom-color: var(--fill-color);\n",
              "    }\n",
              "  }\n",
              "</style>\n",
              "\n",
              "  <script>\n",
              "    async function quickchart(key) {\n",
              "      const quickchartButtonEl =\n",
              "        document.querySelector('#' + key + ' button');\n",
              "      quickchartButtonEl.disabled = true;  // To prevent multiple clicks.\n",
              "      quickchartButtonEl.classList.add('colab-df-spinner');\n",
              "      try {\n",
              "        const charts = await google.colab.kernel.invokeFunction(\n",
              "            'suggestCharts', [key], {});\n",
              "      } catch (error) {\n",
              "        console.error('Error during call to suggestCharts:', error);\n",
              "      }\n",
              "      quickchartButtonEl.classList.remove('colab-df-spinner');\n",
              "      quickchartButtonEl.classList.add('colab-df-quickchart-complete');\n",
              "    }\n",
              "    (() => {\n",
              "      let quickchartButtonEl =\n",
              "        document.querySelector('#df-33f0079a-765c-46fa-9dff-18bac37b6cf9 button');\n",
              "      quickchartButtonEl.style.display =\n",
              "        google.colab.kernel.accessAllowed ? 'block' : 'none';\n",
              "    })();\n",
              "  </script>\n",
              "</div>\n",
              "\n",
              "    </div>\n",
              "  </div>\n"
            ],
            "application/vnd.google.colaboratory.intrinsic+json": {
              "type": "dataframe",
              "variable_name": "df"
            }
          },
          "metadata": {},
          "execution_count": 3
        }
      ],
      "source": [
        "df = pd.read_csv(\"diabetes_binary_health_indicators_BRFSS2015.csv\")\n",
        "df.head()"
      ]
    },
    {
      "cell_type": "code",
      "execution_count": null,
      "id": "ecc8896a-1ca0-443c-a5a6-9d1ed6057747",
      "metadata": {
        "colab": {
          "base_uri": "https://localhost:8080/",
          "height": 350
        },
        "id": "ecc8896a-1ca0-443c-a5a6-9d1ed6057747",
        "outputId": "6db9eca6-9b25-4f7e-f946-d5121e915176"
      },
      "outputs": [
        {
          "output_type": "execute_result",
          "data": {
            "text/plain": [
              "       Diabetes_binary         HighBP       HighChol      CholCheck  \\\n",
              "count    253680.000000  253680.000000  253680.000000  253680.000000   \n",
              "mean          0.139333       0.429001       0.424121       0.962670   \n",
              "std           0.346294       0.494934       0.494210       0.189571   \n",
              "min           0.000000       0.000000       0.000000       0.000000   \n",
              "25%           0.000000       0.000000       0.000000       1.000000   \n",
              "50%           0.000000       0.000000       0.000000       1.000000   \n",
              "75%           0.000000       1.000000       1.000000       1.000000   \n",
              "max           1.000000       1.000000       1.000000       1.000000   \n",
              "\n",
              "                 BMI         Smoker         Stroke  HeartDiseaseorAttack  \\\n",
              "count  253680.000000  253680.000000  253680.000000         253680.000000   \n",
              "mean       28.382364       0.443169       0.040571              0.094186   \n",
              "std         6.608694       0.496761       0.197294              0.292087   \n",
              "min        12.000000       0.000000       0.000000              0.000000   \n",
              "25%        24.000000       0.000000       0.000000              0.000000   \n",
              "50%        27.000000       0.000000       0.000000              0.000000   \n",
              "75%        31.000000       1.000000       0.000000              0.000000   \n",
              "max        98.000000       1.000000       1.000000              1.000000   \n",
              "\n",
              "        PhysActivity         Fruits  ...  AnyHealthcare    NoDocbcCost  \\\n",
              "count  253680.000000  253680.000000  ...  253680.000000  253680.000000   \n",
              "mean        0.756544       0.634256  ...       0.951053       0.084177   \n",
              "std         0.429169       0.481639  ...       0.215759       0.277654   \n",
              "min         0.000000       0.000000  ...       0.000000       0.000000   \n",
              "25%         1.000000       0.000000  ...       1.000000       0.000000   \n",
              "50%         1.000000       1.000000  ...       1.000000       0.000000   \n",
              "75%         1.000000       1.000000  ...       1.000000       0.000000   \n",
              "max         1.000000       1.000000  ...       1.000000       1.000000   \n",
              "\n",
              "             GenHlth       MentHlth       PhysHlth       DiffWalk  \\\n",
              "count  253680.000000  253680.000000  253680.000000  253680.000000   \n",
              "mean        2.511392       3.184772       4.242081       0.168224   \n",
              "std         1.068477       7.412847       8.717951       0.374066   \n",
              "min         1.000000       0.000000       0.000000       0.000000   \n",
              "25%         2.000000       0.000000       0.000000       0.000000   \n",
              "50%         2.000000       0.000000       0.000000       0.000000   \n",
              "75%         3.000000       2.000000       3.000000       0.000000   \n",
              "max         5.000000      30.000000      30.000000       1.000000   \n",
              "\n",
              "                 Sex            Age      Education         Income  \n",
              "count  253680.000000  253680.000000  253680.000000  253680.000000  \n",
              "mean        0.440342       8.032119       5.050434       6.053875  \n",
              "std         0.496429       3.054220       0.985774       2.071148  \n",
              "min         0.000000       1.000000       1.000000       1.000000  \n",
              "25%         0.000000       6.000000       4.000000       5.000000  \n",
              "50%         0.000000       8.000000       5.000000       7.000000  \n",
              "75%         1.000000      10.000000       6.000000       8.000000  \n",
              "max         1.000000      13.000000       6.000000       8.000000  \n",
              "\n",
              "[8 rows x 22 columns]"
            ],
            "text/html": [
              "\n",
              "  <div id=\"df-fd74807c-4295-42ac-b072-76bed1222b7f\" class=\"colab-df-container\">\n",
              "    <div>\n",
              "<style scoped>\n",
              "    .dataframe tbody tr th:only-of-type {\n",
              "        vertical-align: middle;\n",
              "    }\n",
              "\n",
              "    .dataframe tbody tr th {\n",
              "        vertical-align: top;\n",
              "    }\n",
              "\n",
              "    .dataframe thead th {\n",
              "        text-align: right;\n",
              "    }\n",
              "</style>\n",
              "<table border=\"1\" class=\"dataframe\">\n",
              "  <thead>\n",
              "    <tr style=\"text-align: right;\">\n",
              "      <th></th>\n",
              "      <th>Diabetes_binary</th>\n",
              "      <th>HighBP</th>\n",
              "      <th>HighChol</th>\n",
              "      <th>CholCheck</th>\n",
              "      <th>BMI</th>\n",
              "      <th>Smoker</th>\n",
              "      <th>Stroke</th>\n",
              "      <th>HeartDiseaseorAttack</th>\n",
              "      <th>PhysActivity</th>\n",
              "      <th>Fruits</th>\n",
              "      <th>...</th>\n",
              "      <th>AnyHealthcare</th>\n",
              "      <th>NoDocbcCost</th>\n",
              "      <th>GenHlth</th>\n",
              "      <th>MentHlth</th>\n",
              "      <th>PhysHlth</th>\n",
              "      <th>DiffWalk</th>\n",
              "      <th>Sex</th>\n",
              "      <th>Age</th>\n",
              "      <th>Education</th>\n",
              "      <th>Income</th>\n",
              "    </tr>\n",
              "  </thead>\n",
              "  <tbody>\n",
              "    <tr>\n",
              "      <th>count</th>\n",
              "      <td>253680.000000</td>\n",
              "      <td>253680.000000</td>\n",
              "      <td>253680.000000</td>\n",
              "      <td>253680.000000</td>\n",
              "      <td>253680.000000</td>\n",
              "      <td>253680.000000</td>\n",
              "      <td>253680.000000</td>\n",
              "      <td>253680.000000</td>\n",
              "      <td>253680.000000</td>\n",
              "      <td>253680.000000</td>\n",
              "      <td>...</td>\n",
              "      <td>253680.000000</td>\n",
              "      <td>253680.000000</td>\n",
              "      <td>253680.000000</td>\n",
              "      <td>253680.000000</td>\n",
              "      <td>253680.000000</td>\n",
              "      <td>253680.000000</td>\n",
              "      <td>253680.000000</td>\n",
              "      <td>253680.000000</td>\n",
              "      <td>253680.000000</td>\n",
              "      <td>253680.000000</td>\n",
              "    </tr>\n",
              "    <tr>\n",
              "      <th>mean</th>\n",
              "      <td>0.139333</td>\n",
              "      <td>0.429001</td>\n",
              "      <td>0.424121</td>\n",
              "      <td>0.962670</td>\n",
              "      <td>28.382364</td>\n",
              "      <td>0.443169</td>\n",
              "      <td>0.040571</td>\n",
              "      <td>0.094186</td>\n",
              "      <td>0.756544</td>\n",
              "      <td>0.634256</td>\n",
              "      <td>...</td>\n",
              "      <td>0.951053</td>\n",
              "      <td>0.084177</td>\n",
              "      <td>2.511392</td>\n",
              "      <td>3.184772</td>\n",
              "      <td>4.242081</td>\n",
              "      <td>0.168224</td>\n",
              "      <td>0.440342</td>\n",
              "      <td>8.032119</td>\n",
              "      <td>5.050434</td>\n",
              "      <td>6.053875</td>\n",
              "    </tr>\n",
              "    <tr>\n",
              "      <th>std</th>\n",
              "      <td>0.346294</td>\n",
              "      <td>0.494934</td>\n",
              "      <td>0.494210</td>\n",
              "      <td>0.189571</td>\n",
              "      <td>6.608694</td>\n",
              "      <td>0.496761</td>\n",
              "      <td>0.197294</td>\n",
              "      <td>0.292087</td>\n",
              "      <td>0.429169</td>\n",
              "      <td>0.481639</td>\n",
              "      <td>...</td>\n",
              "      <td>0.215759</td>\n",
              "      <td>0.277654</td>\n",
              "      <td>1.068477</td>\n",
              "      <td>7.412847</td>\n",
              "      <td>8.717951</td>\n",
              "      <td>0.374066</td>\n",
              "      <td>0.496429</td>\n",
              "      <td>3.054220</td>\n",
              "      <td>0.985774</td>\n",
              "      <td>2.071148</td>\n",
              "    </tr>\n",
              "    <tr>\n",
              "      <th>min</th>\n",
              "      <td>0.000000</td>\n",
              "      <td>0.000000</td>\n",
              "      <td>0.000000</td>\n",
              "      <td>0.000000</td>\n",
              "      <td>12.000000</td>\n",
              "      <td>0.000000</td>\n",
              "      <td>0.000000</td>\n",
              "      <td>0.000000</td>\n",
              "      <td>0.000000</td>\n",
              "      <td>0.000000</td>\n",
              "      <td>...</td>\n",
              "      <td>0.000000</td>\n",
              "      <td>0.000000</td>\n",
              "      <td>1.000000</td>\n",
              "      <td>0.000000</td>\n",
              "      <td>0.000000</td>\n",
              "      <td>0.000000</td>\n",
              "      <td>0.000000</td>\n",
              "      <td>1.000000</td>\n",
              "      <td>1.000000</td>\n",
              "      <td>1.000000</td>\n",
              "    </tr>\n",
              "    <tr>\n",
              "      <th>25%</th>\n",
              "      <td>0.000000</td>\n",
              "      <td>0.000000</td>\n",
              "      <td>0.000000</td>\n",
              "      <td>1.000000</td>\n",
              "      <td>24.000000</td>\n",
              "      <td>0.000000</td>\n",
              "      <td>0.000000</td>\n",
              "      <td>0.000000</td>\n",
              "      <td>1.000000</td>\n",
              "      <td>0.000000</td>\n",
              "      <td>...</td>\n",
              "      <td>1.000000</td>\n",
              "      <td>0.000000</td>\n",
              "      <td>2.000000</td>\n",
              "      <td>0.000000</td>\n",
              "      <td>0.000000</td>\n",
              "      <td>0.000000</td>\n",
              "      <td>0.000000</td>\n",
              "      <td>6.000000</td>\n",
              "      <td>4.000000</td>\n",
              "      <td>5.000000</td>\n",
              "    </tr>\n",
              "    <tr>\n",
              "      <th>50%</th>\n",
              "      <td>0.000000</td>\n",
              "      <td>0.000000</td>\n",
              "      <td>0.000000</td>\n",
              "      <td>1.000000</td>\n",
              "      <td>27.000000</td>\n",
              "      <td>0.000000</td>\n",
              "      <td>0.000000</td>\n",
              "      <td>0.000000</td>\n",
              "      <td>1.000000</td>\n",
              "      <td>1.000000</td>\n",
              "      <td>...</td>\n",
              "      <td>1.000000</td>\n",
              "      <td>0.000000</td>\n",
              "      <td>2.000000</td>\n",
              "      <td>0.000000</td>\n",
              "      <td>0.000000</td>\n",
              "      <td>0.000000</td>\n",
              "      <td>0.000000</td>\n",
              "      <td>8.000000</td>\n",
              "      <td>5.000000</td>\n",
              "      <td>7.000000</td>\n",
              "    </tr>\n",
              "    <tr>\n",
              "      <th>75%</th>\n",
              "      <td>0.000000</td>\n",
              "      <td>1.000000</td>\n",
              "      <td>1.000000</td>\n",
              "      <td>1.000000</td>\n",
              "      <td>31.000000</td>\n",
              "      <td>1.000000</td>\n",
              "      <td>0.000000</td>\n",
              "      <td>0.000000</td>\n",
              "      <td>1.000000</td>\n",
              "      <td>1.000000</td>\n",
              "      <td>...</td>\n",
              "      <td>1.000000</td>\n",
              "      <td>0.000000</td>\n",
              "      <td>3.000000</td>\n",
              "      <td>2.000000</td>\n",
              "      <td>3.000000</td>\n",
              "      <td>0.000000</td>\n",
              "      <td>1.000000</td>\n",
              "      <td>10.000000</td>\n",
              "      <td>6.000000</td>\n",
              "      <td>8.000000</td>\n",
              "    </tr>\n",
              "    <tr>\n",
              "      <th>max</th>\n",
              "      <td>1.000000</td>\n",
              "      <td>1.000000</td>\n",
              "      <td>1.000000</td>\n",
              "      <td>1.000000</td>\n",
              "      <td>98.000000</td>\n",
              "      <td>1.000000</td>\n",
              "      <td>1.000000</td>\n",
              "      <td>1.000000</td>\n",
              "      <td>1.000000</td>\n",
              "      <td>1.000000</td>\n",
              "      <td>...</td>\n",
              "      <td>1.000000</td>\n",
              "      <td>1.000000</td>\n",
              "      <td>5.000000</td>\n",
              "      <td>30.000000</td>\n",
              "      <td>30.000000</td>\n",
              "      <td>1.000000</td>\n",
              "      <td>1.000000</td>\n",
              "      <td>13.000000</td>\n",
              "      <td>6.000000</td>\n",
              "      <td>8.000000</td>\n",
              "    </tr>\n",
              "  </tbody>\n",
              "</table>\n",
              "<p>8 rows × 22 columns</p>\n",
              "</div>\n",
              "    <div class=\"colab-df-buttons\">\n",
              "\n",
              "  <div class=\"colab-df-container\">\n",
              "    <button class=\"colab-df-convert\" onclick=\"convertToInteractive('df-fd74807c-4295-42ac-b072-76bed1222b7f')\"\n",
              "            title=\"Convert this dataframe to an interactive table.\"\n",
              "            style=\"display:none;\">\n",
              "\n",
              "  <svg xmlns=\"http://www.w3.org/2000/svg\" height=\"24px\" viewBox=\"0 -960 960 960\">\n",
              "    <path d=\"M120-120v-720h720v720H120Zm60-500h600v-160H180v160Zm220 220h160v-160H400v160Zm0 220h160v-160H400v160ZM180-400h160v-160H180v160Zm440 0h160v-160H620v160ZM180-180h160v-160H180v160Zm440 0h160v-160H620v160Z\"/>\n",
              "  </svg>\n",
              "    </button>\n",
              "\n",
              "  <style>\n",
              "    .colab-df-container {\n",
              "      display:flex;\n",
              "      gap: 12px;\n",
              "    }\n",
              "\n",
              "    .colab-df-convert {\n",
              "      background-color: #E8F0FE;\n",
              "      border: none;\n",
              "      border-radius: 50%;\n",
              "      cursor: pointer;\n",
              "      display: none;\n",
              "      fill: #1967D2;\n",
              "      height: 32px;\n",
              "      padding: 0 0 0 0;\n",
              "      width: 32px;\n",
              "    }\n",
              "\n",
              "    .colab-df-convert:hover {\n",
              "      background-color: #E2EBFA;\n",
              "      box-shadow: 0px 1px 2px rgba(60, 64, 67, 0.3), 0px 1px 3px 1px rgba(60, 64, 67, 0.15);\n",
              "      fill: #174EA6;\n",
              "    }\n",
              "\n",
              "    .colab-df-buttons div {\n",
              "      margin-bottom: 4px;\n",
              "    }\n",
              "\n",
              "    [theme=dark] .colab-df-convert {\n",
              "      background-color: #3B4455;\n",
              "      fill: #D2E3FC;\n",
              "    }\n",
              "\n",
              "    [theme=dark] .colab-df-convert:hover {\n",
              "      background-color: #434B5C;\n",
              "      box-shadow: 0px 1px 3px 1px rgba(0, 0, 0, 0.15);\n",
              "      filter: drop-shadow(0px 1px 2px rgba(0, 0, 0, 0.3));\n",
              "      fill: #FFFFFF;\n",
              "    }\n",
              "  </style>\n",
              "\n",
              "    <script>\n",
              "      const buttonEl =\n",
              "        document.querySelector('#df-fd74807c-4295-42ac-b072-76bed1222b7f button.colab-df-convert');\n",
              "      buttonEl.style.display =\n",
              "        google.colab.kernel.accessAllowed ? 'block' : 'none';\n",
              "\n",
              "      async function convertToInteractive(key) {\n",
              "        const element = document.querySelector('#df-fd74807c-4295-42ac-b072-76bed1222b7f');\n",
              "        const dataTable =\n",
              "          await google.colab.kernel.invokeFunction('convertToInteractive',\n",
              "                                                    [key], {});\n",
              "        if (!dataTable) return;\n",
              "\n",
              "        const docLinkHtml = 'Like what you see? Visit the ' +\n",
              "          '<a target=\"_blank\" href=https://colab.research.google.com/notebooks/data_table.ipynb>data table notebook</a>'\n",
              "          + ' to learn more about interactive tables.';\n",
              "        element.innerHTML = '';\n",
              "        dataTable['output_type'] = 'display_data';\n",
              "        await google.colab.output.renderOutput(dataTable, element);\n",
              "        const docLink = document.createElement('div');\n",
              "        docLink.innerHTML = docLinkHtml;\n",
              "        element.appendChild(docLink);\n",
              "      }\n",
              "    </script>\n",
              "  </div>\n",
              "\n",
              "\n",
              "<div id=\"df-86fcf97b-0af2-4470-88be-d6a4c0b85015\">\n",
              "  <button class=\"colab-df-quickchart\" onclick=\"quickchart('df-86fcf97b-0af2-4470-88be-d6a4c0b85015')\"\n",
              "            title=\"Suggest charts\"\n",
              "            style=\"display:none;\">\n",
              "\n",
              "<svg xmlns=\"http://www.w3.org/2000/svg\" height=\"24px\"viewBox=\"0 0 24 24\"\n",
              "     width=\"24px\">\n",
              "    <g>\n",
              "        <path d=\"M19 3H5c-1.1 0-2 .9-2 2v14c0 1.1.9 2 2 2h14c1.1 0 2-.9 2-2V5c0-1.1-.9-2-2-2zM9 17H7v-7h2v7zm4 0h-2V7h2v10zm4 0h-2v-4h2v4z\"/>\n",
              "    </g>\n",
              "</svg>\n",
              "  </button>\n",
              "\n",
              "<style>\n",
              "  .colab-df-quickchart {\n",
              "      --bg-color: #E8F0FE;\n",
              "      --fill-color: #1967D2;\n",
              "      --hover-bg-color: #E2EBFA;\n",
              "      --hover-fill-color: #174EA6;\n",
              "      --disabled-fill-color: #AAA;\n",
              "      --disabled-bg-color: #DDD;\n",
              "  }\n",
              "\n",
              "  [theme=dark] .colab-df-quickchart {\n",
              "      --bg-color: #3B4455;\n",
              "      --fill-color: #D2E3FC;\n",
              "      --hover-bg-color: #434B5C;\n",
              "      --hover-fill-color: #FFFFFF;\n",
              "      --disabled-bg-color: #3B4455;\n",
              "      --disabled-fill-color: #666;\n",
              "  }\n",
              "\n",
              "  .colab-df-quickchart {\n",
              "    background-color: var(--bg-color);\n",
              "    border: none;\n",
              "    border-radius: 50%;\n",
              "    cursor: pointer;\n",
              "    display: none;\n",
              "    fill: var(--fill-color);\n",
              "    height: 32px;\n",
              "    padding: 0;\n",
              "    width: 32px;\n",
              "  }\n",
              "\n",
              "  .colab-df-quickchart:hover {\n",
              "    background-color: var(--hover-bg-color);\n",
              "    box-shadow: 0 1px 2px rgba(60, 64, 67, 0.3), 0 1px 3px 1px rgba(60, 64, 67, 0.15);\n",
              "    fill: var(--button-hover-fill-color);\n",
              "  }\n",
              "\n",
              "  .colab-df-quickchart-complete:disabled,\n",
              "  .colab-df-quickchart-complete:disabled:hover {\n",
              "    background-color: var(--disabled-bg-color);\n",
              "    fill: var(--disabled-fill-color);\n",
              "    box-shadow: none;\n",
              "  }\n",
              "\n",
              "  .colab-df-spinner {\n",
              "    border: 2px solid var(--fill-color);\n",
              "    border-color: transparent;\n",
              "    border-bottom-color: var(--fill-color);\n",
              "    animation:\n",
              "      spin 1s steps(1) infinite;\n",
              "  }\n",
              "\n",
              "  @keyframes spin {\n",
              "    0% {\n",
              "      border-color: transparent;\n",
              "      border-bottom-color: var(--fill-color);\n",
              "      border-left-color: var(--fill-color);\n",
              "    }\n",
              "    20% {\n",
              "      border-color: transparent;\n",
              "      border-left-color: var(--fill-color);\n",
              "      border-top-color: var(--fill-color);\n",
              "    }\n",
              "    30% {\n",
              "      border-color: transparent;\n",
              "      border-left-color: var(--fill-color);\n",
              "      border-top-color: var(--fill-color);\n",
              "      border-right-color: var(--fill-color);\n",
              "    }\n",
              "    40% {\n",
              "      border-color: transparent;\n",
              "      border-right-color: var(--fill-color);\n",
              "      border-top-color: var(--fill-color);\n",
              "    }\n",
              "    60% {\n",
              "      border-color: transparent;\n",
              "      border-right-color: var(--fill-color);\n",
              "    }\n",
              "    80% {\n",
              "      border-color: transparent;\n",
              "      border-right-color: var(--fill-color);\n",
              "      border-bottom-color: var(--fill-color);\n",
              "    }\n",
              "    90% {\n",
              "      border-color: transparent;\n",
              "      border-bottom-color: var(--fill-color);\n",
              "    }\n",
              "  }\n",
              "</style>\n",
              "\n",
              "  <script>\n",
              "    async function quickchart(key) {\n",
              "      const quickchartButtonEl =\n",
              "        document.querySelector('#' + key + ' button');\n",
              "      quickchartButtonEl.disabled = true;  // To prevent multiple clicks.\n",
              "      quickchartButtonEl.classList.add('colab-df-spinner');\n",
              "      try {\n",
              "        const charts = await google.colab.kernel.invokeFunction(\n",
              "            'suggestCharts', [key], {});\n",
              "      } catch (error) {\n",
              "        console.error('Error during call to suggestCharts:', error);\n",
              "      }\n",
              "      quickchartButtonEl.classList.remove('colab-df-spinner');\n",
              "      quickchartButtonEl.classList.add('colab-df-quickchart-complete');\n",
              "    }\n",
              "    (() => {\n",
              "      let quickchartButtonEl =\n",
              "        document.querySelector('#df-86fcf97b-0af2-4470-88be-d6a4c0b85015 button');\n",
              "      quickchartButtonEl.style.display =\n",
              "        google.colab.kernel.accessAllowed ? 'block' : 'none';\n",
              "    })();\n",
              "  </script>\n",
              "</div>\n",
              "\n",
              "    </div>\n",
              "  </div>\n"
            ],
            "application/vnd.google.colaboratory.intrinsic+json": {
              "type": "dataframe"
            }
          },
          "metadata": {},
          "execution_count": 4
        }
      ],
      "source": [
        "df.describe()"
      ]
    },
    {
      "cell_type": "code",
      "execution_count": null,
      "id": "4ecafe47-47f9-4a86-9447-23216c2aa07e",
      "metadata": {
        "id": "4ecafe47-47f9-4a86-9447-23216c2aa07e"
      },
      "outputs": [],
      "source": [
        "df = df.drop_duplicates().reset_index(inplace = False)"
      ]
    },
    {
      "cell_type": "code",
      "source": [
        "df.dtypes"
      ],
      "metadata": {
        "colab": {
          "base_uri": "https://localhost:8080/",
          "height": 805
        },
        "id": "zwdXM2KaRtkz",
        "outputId": "99e4c653-321b-4b13-ecda-075af9d41d3d"
      },
      "id": "zwdXM2KaRtkz",
      "execution_count": null,
      "outputs": [
        {
          "output_type": "execute_result",
          "data": {
            "text/plain": [
              "index                     int64\n",
              "Diabetes_binary         float64\n",
              "HighBP                  float64\n",
              "HighChol                float64\n",
              "CholCheck               float64\n",
              "BMI                     float64\n",
              "Smoker                  float64\n",
              "Stroke                  float64\n",
              "HeartDiseaseorAttack    float64\n",
              "PhysActivity            float64\n",
              "Fruits                  float64\n",
              "Veggies                 float64\n",
              "HvyAlcoholConsump       float64\n",
              "AnyHealthcare           float64\n",
              "NoDocbcCost             float64\n",
              "GenHlth                 float64\n",
              "MentHlth                float64\n",
              "PhysHlth                float64\n",
              "DiffWalk                float64\n",
              "Sex                     float64\n",
              "Age                     float64\n",
              "Education               float64\n",
              "Income                  float64\n",
              "dtype: object"
            ],
            "text/html": [
              "<div>\n",
              "<style scoped>\n",
              "    .dataframe tbody tr th:only-of-type {\n",
              "        vertical-align: middle;\n",
              "    }\n",
              "\n",
              "    .dataframe tbody tr th {\n",
              "        vertical-align: top;\n",
              "    }\n",
              "\n",
              "    .dataframe thead th {\n",
              "        text-align: right;\n",
              "    }\n",
              "</style>\n",
              "<table border=\"1\" class=\"dataframe\">\n",
              "  <thead>\n",
              "    <tr style=\"text-align: right;\">\n",
              "      <th></th>\n",
              "      <th>0</th>\n",
              "    </tr>\n",
              "  </thead>\n",
              "  <tbody>\n",
              "    <tr>\n",
              "      <th>index</th>\n",
              "      <td>int64</td>\n",
              "    </tr>\n",
              "    <tr>\n",
              "      <th>Diabetes_binary</th>\n",
              "      <td>float64</td>\n",
              "    </tr>\n",
              "    <tr>\n",
              "      <th>HighBP</th>\n",
              "      <td>float64</td>\n",
              "    </tr>\n",
              "    <tr>\n",
              "      <th>HighChol</th>\n",
              "      <td>float64</td>\n",
              "    </tr>\n",
              "    <tr>\n",
              "      <th>CholCheck</th>\n",
              "      <td>float64</td>\n",
              "    </tr>\n",
              "    <tr>\n",
              "      <th>BMI</th>\n",
              "      <td>float64</td>\n",
              "    </tr>\n",
              "    <tr>\n",
              "      <th>Smoker</th>\n",
              "      <td>float64</td>\n",
              "    </tr>\n",
              "    <tr>\n",
              "      <th>Stroke</th>\n",
              "      <td>float64</td>\n",
              "    </tr>\n",
              "    <tr>\n",
              "      <th>HeartDiseaseorAttack</th>\n",
              "      <td>float64</td>\n",
              "    </tr>\n",
              "    <tr>\n",
              "      <th>PhysActivity</th>\n",
              "      <td>float64</td>\n",
              "    </tr>\n",
              "    <tr>\n",
              "      <th>Fruits</th>\n",
              "      <td>float64</td>\n",
              "    </tr>\n",
              "    <tr>\n",
              "      <th>Veggies</th>\n",
              "      <td>float64</td>\n",
              "    </tr>\n",
              "    <tr>\n",
              "      <th>HvyAlcoholConsump</th>\n",
              "      <td>float64</td>\n",
              "    </tr>\n",
              "    <tr>\n",
              "      <th>AnyHealthcare</th>\n",
              "      <td>float64</td>\n",
              "    </tr>\n",
              "    <tr>\n",
              "      <th>NoDocbcCost</th>\n",
              "      <td>float64</td>\n",
              "    </tr>\n",
              "    <tr>\n",
              "      <th>GenHlth</th>\n",
              "      <td>float64</td>\n",
              "    </tr>\n",
              "    <tr>\n",
              "      <th>MentHlth</th>\n",
              "      <td>float64</td>\n",
              "    </tr>\n",
              "    <tr>\n",
              "      <th>PhysHlth</th>\n",
              "      <td>float64</td>\n",
              "    </tr>\n",
              "    <tr>\n",
              "      <th>DiffWalk</th>\n",
              "      <td>float64</td>\n",
              "    </tr>\n",
              "    <tr>\n",
              "      <th>Sex</th>\n",
              "      <td>float64</td>\n",
              "    </tr>\n",
              "    <tr>\n",
              "      <th>Age</th>\n",
              "      <td>float64</td>\n",
              "    </tr>\n",
              "    <tr>\n",
              "      <th>Education</th>\n",
              "      <td>float64</td>\n",
              "    </tr>\n",
              "    <tr>\n",
              "      <th>Income</th>\n",
              "      <td>float64</td>\n",
              "    </tr>\n",
              "  </tbody>\n",
              "</table>\n",
              "</div><br><label><b>dtype:</b> object</label>"
            ]
          },
          "metadata": {},
          "execution_count": 6
        }
      ]
    },
    {
      "cell_type": "code",
      "execution_count": null,
      "id": "6a11901b-6e7d-4bbb-911b-114b32913594",
      "metadata": {
        "colab": {
          "base_uri": "https://localhost:8080/",
          "height": 929
        },
        "id": "6a11901b-6e7d-4bbb-911b-114b32913594",
        "outputId": "0758ba84-42d2-4ac6-9532-0a7b62eb0fa0"
      },
      "outputs": [
        {
          "output_type": "stream",
          "name": "stdout",
          "text": [
            "2.063475270647552\n",
            "0.3512216568434356\n",
            "2.5445322318683075\n",
            "2.044139144084555\n",
            "-0.38438274418449775\n",
            "-0.6903061432838241\n",
            "-0.7803767461725613\n"
          ]
        },
        {
          "output_type": "display_data",
          "data": {
            "text/plain": [
              "<Figure size 1000x800 with 9 Axes>"
            ],
            "image/png": "[encoded data removed]"
          },
          "metadata": {}
        }
      ],
      "source": [
        "fig, axes = plt.subplots(3, 3, figsize=(10, 8))  # 2x2 grid\n",
        "columns = ['BMI', 'GenHlth', 'MentHlth', 'PhysHlth', 'Age', 'Education', 'Income']  # Get column names\n",
        "\n",
        "# Loop through columns and plot on subplots\n",
        "for ax, col in zip(axes.flatten(), columns):\n",
        "    ax.hist(df[col], alpha=0.7, color='blue', edgecolor='black')\n",
        "    ax.set_title(f'Histogram of {col}')\n",
        "    print(df[col].skew())\n",
        "\n",
        "plt.tight_layout()  # Adjust layout for readability\n",
        "plt.show()"
      ]
    },
    {
      "cell_type": "code",
      "execution_count": null,
      "id": "94a5c6d1-cecb-41e6-96e2-7b2814ccbd6e",
      "metadata": {
        "colab": {
          "base_uri": "https://localhost:8080/",
          "height": 911
        },
        "id": "94a5c6d1-cecb-41e6-96e2-7b2814ccbd6e",
        "outputId": "497eeb27-11ee-4cf0-d5b0-89fb53dfad87"
      },
      "outputs": [
        {
          "output_type": "stream",
          "name": "stdout",
          "text": [
            "-0.024652387895281007\n",
            "1.6543321527720953\n",
            "0.700377820799732\n",
            "1.6543321527720953\n",
            "0.4115177452696707\n",
            "1.6543321527720953\n"
          ]
        },
        {
          "output_type": "display_data",
          "data": {
            "text/plain": [
              "<Figure size 1500x800 with 4 Axes>"
            ],
            "image/png": "[encoded data removed]"
          },
          "metadata": {}
        }
      ],
      "source": [
        "fitted_lambda_dict = {}\n",
        "for col in columns:\n",
        "  df[f\"{col}_log\"] = df[col] + 0.001\n",
        "  df[f\"{col}_log\"], fitted_lambda = boxcox(df[f\"{col}_log\"])\n",
        "  fitted_lambda_dict[col] = fitted_lambda\n",
        "\n",
        "fig, axes = plt.subplots(2, 2, figsize=(15, 8))  # 2x2 grid\n",
        "columns_to_change = ['BMI', 'MentHlth', 'PhysHlth']  # Get column names\n",
        "\n",
        "# Loop through columns and plot on subplots\n",
        "for ax, col in zip(axes.flatten(), columns_to_change):\n",
        "    ax.hist(df[f\"{col}_log\"], alpha=0.7, color='blue', edgecolor='black')\n",
        "    ax.set_title(f'Histogram of {col}_log\"')\n",
        "    print(df[f\"{col}_log\"].skew())\n",
        "    print(fitted_lambda)\n",
        "\n",
        "plt.tight_layout()\n",
        "plt.show()"
      ]
    },
    {
      "cell_type": "code",
      "source": [
        "df.columns"
      ],
      "metadata": {
        "colab": {
          "base_uri": "https://localhost:8080/"
        },
        "id": "KBU-FJWgUMTH",
        "outputId": "40148ea6-7ea9-4b64-f557-2c96fa6700fa"
      },
      "id": "KBU-FJWgUMTH",
      "execution_count": null,
      "outputs": [
        {
          "output_type": "execute_result",
          "data": {
            "text/plain": [
              "Index(['index', 'Diabetes_binary', 'HighBP', 'HighChol', 'CholCheck', 'BMI',\n",
              "       'Smoker', 'Stroke', 'HeartDiseaseorAttack', 'PhysActivity', 'Fruits',\n",
              "       'Veggies', 'HvyAlcoholConsump', 'AnyHealthcare', 'NoDocbcCost',\n",
              "       'GenHlth', 'MentHlth', 'PhysHlth', 'DiffWalk', 'Sex', 'Age',\n",
              "       'Education', 'Income', 'BMI_log', 'GenHlth_log', 'MentHlth_log',\n",
              "       'PhysHlth_log', 'Age_log', 'Education_log', 'Income_log'],\n",
              "      dtype='object')"
            ]
          },
          "metadata": {},
          "execution_count": 9
        }
      ]
    },
    {
      "cell_type": "code",
      "source": [
        "df_sampled = df.sample(frac=0.25, random_state=42)"
      ],
      "metadata": {
        "id": "3kQdsvmjJ5xZ"
      },
      "id": "3kQdsvmjJ5xZ",
      "execution_count": null,
      "outputs": []
    },
    {
      "cell_type": "code",
      "source": [
        "df_sampled['AgeBMI_log'] = (df_sampled['Age'] * df_sampled['BMI'])\n",
        "df_sampled['HighRisk'] = df_sampled.apply(lambda row: 1 if row['Smoker'] == 1 or row['Stroke'] == 1 or row['HvyAlcoholConsump'] == 1 else 0, axis=1)\n",
        "df_sampled['SuperHighRisk'] = df_sampled.apply(lambda row: 1 if row['Smoker'] == 1 and row['Stroke'] == 1 and row['HvyAlcoholConsump'] == 1 else 0, axis=1)\n",
        "df_sampled['HighBP_Chol'] = df_sampled.apply(lambda row: 1 if row['HighBP'] == 1 or row['HighChol'] == 1 else 0, axis=1)\n",
        "df_sampled['Fruits_Veggies'] = df_sampled.apply(lambda row: 1 if row['Fruits'] == 1 and row['Veggies'] == 1 else 0, axis=1)\n",
        "df_sampled['Fruits_or_Veggies'] = df_sampled.apply(lambda row: 1 if row['Fruits'] == 1 or row['Veggies'] == 1 else 0, axis=1)\n",
        "df_sampled['MaxHealth'] = df_sampled[['GenHlth', 'MentHlth', 'PhysHlth']].max(axis=1)\n",
        "df_sampled['MinHealth'] = df_sampled[['GenHlth', 'MentHlth', 'PhysHlth']].min(axis=1)"
      ],
      "metadata": {
        "id": "42JmMzTdYJ0M"
      },
      "id": "42JmMzTdYJ0M",
      "execution_count": null,
      "outputs": []
    },
    {
      "cell_type": "code",
      "source": [
        "cols_to_drop = ['CholCheck', 'HvyAlcoholConsump', 'PhysActivity', 'HeartDiseaseorAttack', 'PhysActivity']"
      ],
      "metadata": {
        "id": "osHAmvGYXkWV"
      },
      "id": "osHAmvGYXkWV",
      "execution_count": null,
      "outputs": []
    },
    {
      "cell_type": "code",
      "source": [
        "X = df_sampled.drop(columns=['Diabetes_binary'])\n",
        "X = X.drop(columns=['index', 'GenHlth_log', 'BMI', 'MentHlth_log', 'PhysHlth_log', 'Age_log', 'Education_log', 'Income_log'])\n",
        "# X = X.drop(columns=cols_to_drop)\n",
        "\n",
        "y = df_sampled['Diabetes_binary']"
      ],
      "metadata": {
        "id": "QUwMo0YvQzJW"
      },
      "id": "QUwMo0YvQzJW",
      "execution_count": null,
      "outputs": []
    },
    {
      "cell_type": "code",
      "source": [
        "print(\"Original distribution:\", Counter(y))"
      ],
      "metadata": {
        "colab": {
          "base_uri": "https://localhost:8080/"
        },
        "id": "cF9_AfizwoYi",
        "outputId": "76cad694-0535-42e2-f274-1439af1463e1"
      },
      "id": "cF9_AfizwoYi",
      "execution_count": null,
      "outputs": [
        {
          "output_type": "stream",
          "name": "stdout",
          "text": [
            "Original distribution: Counter({0.0: 48550, 1.0: 8818})\n"
          ]
        }
      ]
    },
    {
      "cell_type": "code",
      "source": [
        "scaler = StandardScaler()\n",
        "\n",
        "X_scaled = scaler.fit_transform(X)"
      ],
      "metadata": {
        "id": "6QBjqpohX-o9"
      },
      "id": "6QBjqpohX-o9",
      "execution_count": null,
      "outputs": []
    },
    {
      "cell_type": "code",
      "source": [
        "X_train, X_test, y_train, y_test = train_test_split(X_scaled, y, test_size=0.2, random_state=42)"
      ],
      "metadata": {
        "id": "tch_neBKUigD"
      },
      "id": "tch_neBKUigD",
      "execution_count": null,
      "outputs": []
    },
    {
      "cell_type": "code",
      "source": [],
      "metadata": {
        "id": "PcVLZ-2-X6OY"
      },
      "id": "PcVLZ-2-X6OY",
      "execution_count": null,
      "outputs": []
    },
    {
      "cell_type": "code",
      "source": [
        "# from imblearn.combine import SMOTEENN\n",
        "# smote = SMOTE(sampling_strategy=0.9, random_state=42)\n",
        "# # smote = SMOTEENN(sampling_strategy=0.6, random_state=42)\n",
        "\n",
        "# X_train, y_train = smote.fit_resample(X_train, y_train)"
      ],
      "metadata": {
        "id": "DO-kD6uEIz3v"
      },
      "id": "DO-kD6uEIz3v",
      "execution_count": null,
      "outputs": []
    },
    {
      "cell_type": "code",
      "execution_count": null,
      "id": "7b2b92aa-8622-49aa-8740-91f91f459a9c",
      "metadata": {
        "id": "7b2b92aa-8622-49aa-8740-91f91f459a9c"
      },
      "outputs": [],
      "source": [
        "# log_transform_cols = ['BMI', 'MentHlth', 'PhysHlth', 'Education']  # Update to your skewed columns\n",
        "# numeric_all = X.select_dtypes(include=[\"int64\", \"float64\"]).columns.tolist()\n",
        "# numeric_cols = list(set(numeric_all) - set(log_transform_cols))"
      ]
    },
    {
      "cell_type": "code",
      "execution_count": null,
      "id": "6b9c375d-1e89-4280-8bc7-201db25cfe70",
      "metadata": {
        "id": "6b9c375d-1e89-4280-8bc7-201db25cfe70"
      },
      "outputs": [],
      "source": [
        "# log_numeric_transformer = Pipeline(steps=[\n",
        "#     (\"imputer\", SimpleImputer(strategy=\"mean\")),\n",
        "#     (\"log\", FunctionTransformer(func=np.log1p, inverse_func=np.expm1, validate=True)),\n",
        "#     (\"scaler\", StandardScaler())\n",
        "# ])\n",
        "\n",
        "# numeric_transformer = Pipeline(steps=[\n",
        "#     (\"imputer\", SimpleImputer(strategy=\"mean\")),\n",
        "#     (\"scaler\", StandardScaler())\n",
        "# ])\n",
        "\n",
        "# preprocessor = ColumnTransformer(transformers=[\n",
        "#     (\"log_num\", log_numeric_transformer, log_transform_cols),\n",
        "#     (\"num\", numeric_transformer, numeric_cols)\n",
        "# ])\n",
        "\n",
        "# pipeline = Pipeline(steps=[\n",
        "#     (\"preprocessor\", preprocessor),\n",
        "#     (\"regressor\", RandomForestClassifier(random_state=42))\n",
        "# ])\n",
        "\n",
        "# param_grid = {\n",
        "#     \"regressor__n_estimators\": [50, 100],\n",
        "#     \"regressor__max_depth\": [None, 10, 20]\n",
        "# }"
      ]
    },
    {
      "cell_type": "code",
      "source": [
        "%%time\n",
        "rf = RandomForestClassifier(random_state=42)\n",
        "\n",
        "param_grid = {\n",
        "    \"n_estimators\": [50, 100],\n",
        "    \"max_depth\": [None, 10, 20]\n",
        "}\n",
        "\n",
        "grid_search = GridSearchCV(estimator=rf, param_grid=param_grid, cv=5, n_jobs=-1, scoring='recall', verbose=1)\n",
        "grid_search.fit(X_res, y_res)\n",
        "\n",
        "best_model = grid_search.best_estimator_\n",
        "\n",
        "y_pred = best_model.predict(X_test)"
      ],
      "metadata": {
        "colab": {
          "base_uri": "https://localhost:8080/",
          "height": 124
        },
        "id": "RIfUEL7YUvw5",
        "outputId": "39c063b2-782f-4d73-eac1-af2c0753a950"
      },
      "id": "RIfUEL7YUvw5",
      "execution_count": null,
      "outputs": [
        {
          "output_type": "error",
          "ename": "NameError",
          "evalue": "name 'X_res' is not defined",
          "traceback": [
            "\u001b[0;31m---------------------------------------------------------------------------\u001b[0m",
            "\u001b[0;31mNameError\u001b[0m                                 Traceback (most recent call last)",
            "\u001b[0;32m<timed exec>\u001b[0m in \u001b[0;36m<module>\u001b[0;34m\u001b[0m\n",
            "\u001b[0;31mNameError\u001b[0m: name 'X_res' is not defined"
          ]
        }
      ]
    },
    {
      "cell_type": "code",
      "source": [
        "%%time\n",
        "best_model = RandomForestClassifier(n_estimators = 100, max_depth = None, random_state=42, class_weight={0: 1.0, 1: 5.0})\n",
        "\n",
        "best_model.fit(X_train, y_train)\n",
        "\n",
        "y_pred = best_model.predict(X_test)"
      ],
      "metadata": {
        "id": "z-K39Yf9bu1b",
        "colab": {
          "base_uri": "https://localhost:8080/"
        },
        "outputId": "cd87b4e2-7daa-434c-be41-6e2b3ebe0584"
      },
      "id": "z-K39Yf9bu1b",
      "execution_count": null,
      "outputs": [
        {
          "output_type": "stream",
          "name": "stdout",
          "text": [
            "CPU times: user 12 s, sys: 41.2 ms, total: 12 s\n",
            "Wall time: 12 s\n"
          ]
        }
      ]
    },
    {
      "cell_type": "code",
      "source": [
        "X.columns"
      ],
      "metadata": {
        "colab": {
          "base_uri": "https://localhost:8080/"
        },
        "id": "xyGw2HzfW1LL",
        "outputId": "18eabff7-d6db-408c-c512-9b678530aece"
      },
      "id": "xyGw2HzfW1LL",
      "execution_count": null,
      "outputs": [
        {
          "output_type": "execute_result",
          "data": {
            "text/plain": [
              "Index(['HighBP', 'HighChol', 'CholCheck', 'Smoker', 'Stroke',\n",
              "       'HeartDiseaseorAttack', 'PhysActivity', 'Fruits', 'Veggies',\n",
              "       'HvyAlcoholConsump', 'AnyHealthcare', 'NoDocbcCost', 'GenHlth',\n",
              "       'MentHlth', 'PhysHlth', 'DiffWalk', 'Sex', 'Age', 'Education', 'Income',\n",
              "       'BMI_log', 'AgeBMI_log'],\n",
              "      dtype='object')"
            ]
          },
          "metadata": {},
          "execution_count": 19
        }
      ]
    },
    {
      "cell_type": "code",
      "source": [
        "best_model.feature_importances_"
      ],
      "metadata": {
        "colab": {
          "base_uri": "https://localhost:8080/"
        },
        "id": "wWOmHbi8WdlE",
        "outputId": "69daa75f-ce79-4e69-90c8-522fce58d762"
      },
      "id": "wWOmHbi8WdlE",
      "execution_count": null,
      "outputs": [
        {
          "output_type": "execute_result",
          "data": {
            "text/plain": [
              "array([0.03956863, 0.03050205, 0.00314979, 0.08536235, 0.03046734,\n",
              "       0.01275614, 0.02171406, 0.02496302, 0.02983206, 0.02329584,\n",
              "       0.00781631, 0.00731329, 0.01245007, 0.07089189, 0.04826735,\n",
              "       0.06570744, 0.02427396, 0.02846082, 0.06956099, 0.05975171,\n",
              "       0.0826346 , 0.08654411, 0.13471618])"
            ]
          },
          "metadata": {},
          "execution_count": 18
        }
      ]
    },
    {
      "cell_type": "code",
      "source": [
        "cols_to_drop = ['CholCheck', 'HvyAlcoholConsump', 'PhysActivity', 'HeartDiseaseorAttack', 'PhysActivity']"
      ],
      "metadata": {
        "id": "7dQxwlBGW5-R"
      },
      "id": "7dQxwlBGW5-R",
      "execution_count": null,
      "outputs": []
    },
    {
      "cell_type": "code",
      "execution_count": null,
      "id": "ae878ec7-32c0-4281-a141-ba5d2665e4c7",
      "metadata": {
        "colab": {
          "base_uri": "https://localhost:8080/"
        },
        "id": "ae878ec7-32c0-4281-a141-ba5d2665e4c7",
        "outputId": "30ae2678-f8bc-4bb5-be37-60e429e7567f"
      },
      "outputs": [
        {
          "output_type": "stream",
          "name": "stdout",
          "text": [
            "R² Score: -0.8348995766722496\n",
            "Accuracy: 0.7641624542443786\n",
            "Recall: 0.6271576524741082\n"
          ]
        }
      ],
      "source": [
        "r2 = r2_score(y_test, y_pred)\n",
        "accuracy = accuracy_score(y_test, y_pred)\n",
        "recall = recall_score(y_test, y_pred)\n",
        "\n",
        "print(f\"R² Score: {r2}\")\n",
        "print(f\"Accuracy: {accuracy}\")\n",
        "print(f\"Recall: {recall}\")"
      ]
    },
    {
      "cell_type": "code",
      "source": [
        "print(\"Best parameters found:\", grid_search.best_params_)\n",
        "print(\"Best cross-validation accuracy:\", grid_search.best_score_)"
      ],
      "metadata": {
        "colab": {
          "base_uri": "https://localhost:8080/",
          "height": 158
        },
        "id": "MpQXtXAwXSWZ",
        "outputId": "1d2d6dc7-fdc4-41be-a61b-c24cded9d9f3"
      },
      "id": "MpQXtXAwXSWZ",
      "execution_count": null,
      "outputs": [
        {
          "output_type": "error",
          "ename": "NameError",
          "evalue": "name 'grid_search' is not defined",
          "traceback": [
            "\u001b[0;31m---------------------------------------------------------------------------\u001b[0m",
            "\u001b[0;31mNameError\u001b[0m                                 Traceback (most recent call last)",
            "\u001b[0;32m<ipython-input-24-6bf1f3599451>\u001b[0m in \u001b[0;36m<cell line: 0>\u001b[0;34m()\u001b[0m\n\u001b[0;32m----> 1\u001b[0;31m \u001b[0mprint\u001b[0m\u001b[0;34m(\u001b[0m\u001b[0;34m\"Best parameters found:\"\u001b[0m\u001b[0;34m,\u001b[0m \u001b[0mgrid_search\u001b[0m\u001b[0;34m.\u001b[0m\u001b[0mbest_params_\u001b[0m\u001b[0;34m)\u001b[0m\u001b[0;34m\u001b[0m\u001b[0;34m\u001b[0m\u001b[0m\n\u001b[0m\u001b[1;32m      2\u001b[0m \u001b[0mprint\u001b[0m\u001b[0;34m(\u001b[0m\u001b[0;34m\"Best cross-validation accuracy:\"\u001b[0m\u001b[0;34m,\u001b[0m \u001b[0mgrid_search\u001b[0m\u001b[0;34m.\u001b[0m\u001b[0mbest_score_\u001b[0m\u001b[0;34m)\u001b[0m\u001b[0;34m\u001b[0m\u001b[0;34m\u001b[0m\u001b[0m\n",
            "\u001b[0;31mNameError\u001b[0m: name 'grid_search' is not defined"
          ]
        }
      ]
    },
    {
      "cell_type": "code",
      "source": [
        "# DNN"
      ],
      "metadata": {
        "id": "uQueSnqSavbQ"
      },
      "id": "uQueSnqSavbQ",
      "execution_count": null,
      "outputs": []
    },
    {
      "cell_type": "code",
      "source": [
        "import tensorflow as tf\n",
        "from tensorflow.keras.models import Sequential\n",
        "from tensorflow.keras.layers import Dense, Dropout\n",
        "from tensorflow.keras.metrics import Recall"
      ],
      "metadata": {
        "id": "F7yY2V5BKUBY"
      },
      "id": "F7yY2V5BKUBY",
      "execution_count": null,
      "outputs": []
    },
    {
      "cell_type": "code",
      "source": [
        "def focal_loss(gamma=2., alpha=0.25):\n",
        "    def loss(y_true, y_pred):\n",
        "        bce = tf.keras.backend.binary_crossentropy(y_true, y_pred)\n",
        "        pt = tf.where(tf.equal(y_true, 1), y_pred, 1 - y_pred)\n",
        "        return alpha * tf.pow(1. - pt, gamma) * bce\n",
        "    return loss"
      ],
      "metadata": {
        "id": "f_DLECKsQkvg"
      },
      "id": "f_DLECKsQkvg",
      "execution_count": null,
      "outputs": []
    },
    {
      "cell_type": "code",
      "source": [
        "model = Sequential([\n",
        "    Dense(128, activation='gelu', input_shape=(X_train.shape[1],)),\n",
        "    Dropout(0.2),\n",
        "    Dense(64, activation='gelu'),\n",
        "    Dropout(0.2),\n",
        "    Dense(32, activation='tanh'),\n",
        "    Dropout(0.2),\n",
        "    Dense(1, activation='sigmoid')  # For binary classification\n",
        "])\n",
        "\n",
        "model.compile(optimizer='adam', loss=focal_loss(), metrics=['accuracy', Recall()])"
      ],
      "metadata": {
        "colab": {
          "base_uri": "https://localhost:8080/"
        },
        "id": "-XYhaAxvKfzT",
        "outputId": "d3d780f1-95f8-4fad-f26d-428f874f020f"
      },
      "id": "-XYhaAxvKfzT",
      "execution_count": null,
      "outputs": [
        {
          "output_type": "stream",
          "name": "stderr",
          "text": [
            "/usr/local/lib/python3.11/dist-packages/keras/src/layers/core/dense.py:87: UserWarning: Do not pass an `input_shape`/`input_dim` argument to a layer. When using Sequential models, prefer using an `Input(shape)` object as the first layer in the model instead.\n",
            "  super().__init__(activity_regularizer=activity_regularizer, **kwargs)\n"
          ]
        }
      ]
    },
    {
      "cell_type": "code",
      "source": [
        "history = model.fit(X_train, y_train, epochs=15, batch_size=32, validation_split=0.2, class_weight={0: 1.0, 1: 5.0})\n"
      ],
      "metadata": {
        "colab": {
          "base_uri": "https://localhost:8080/"
        },
        "id": "c3P_wVHiKoBl",
        "outputId": "8c0d97db-34c1-4b60-c8aa-6aef9e5775cc"
      },
      "id": "c3P_wVHiKoBl",
      "execution_count": null,
      "outputs": [
        {
          "output_type": "stream",
          "name": "stdout",
          "text": [
            "Epoch 1/15\n",
            "\u001b[1m1148/1148\u001b[0m \u001b[32m━━━━━━━━━━━━━━━━━━━━\u001b[0m\u001b[37m\u001b[0m \u001b[1m11s\u001b[0m 5ms/step - accuracy: 0.6900 - loss: 0.0603 - recall: 0.7113 - val_accuracy: 0.7092 - val_loss: 0.0326 - val_recall: 0.7579\n",
            "Epoch 2/15\n",
            "\u001b[1m1148/1148\u001b[0m \u001b[32m━━━━━━━━━━━━━━━━━━━━\u001b[0m\u001b[37m\u001b[0m \u001b[1m6s\u001b[0m 4ms/step - accuracy: 0.7085 - loss: 0.0551 - recall: 0.7724 - val_accuracy: 0.7096 - val_loss: 0.0326 - val_recall: 0.7666\n",
            "Epoch 3/15\n",
            "\u001b[1m1148/1148\u001b[0m \u001b[32m━━━━━━━━━━━━━━━━━━━━\u001b[0m\u001b[37m\u001b[0m \u001b[1m3s\u001b[0m 3ms/step - accuracy: 0.7175 - loss: 0.0541 - recall: 0.7765 - val_accuracy: 0.7255 - val_loss: 0.0324 - val_recall: 0.7269\n",
            "Epoch 4/15\n",
            "\u001b[1m1148/1148\u001b[0m \u001b[32m━━━━━━━━━━━━━━━━━━━━\u001b[0m\u001b[37m\u001b[0m \u001b[1m6s\u001b[0m 3ms/step - accuracy: 0.7137 - loss: 0.0546 - recall: 0.7719 - val_accuracy: 0.6963 - val_loss: 0.0337 - val_recall: 0.7919\n",
            "Epoch 5/15\n",
            "\u001b[1m1148/1148\u001b[0m \u001b[32m━━━━━━━━━━━━━━━━━━━━\u001b[0m\u001b[37m\u001b[0m \u001b[1m3s\u001b[0m 3ms/step - accuracy: 0.7063 - loss: 0.0546 - recall: 0.7833 - val_accuracy: 0.6934 - val_loss: 0.0350 - val_recall: 0.7868\n",
            "Epoch 6/15\n",
            "\u001b[1m1148/1148\u001b[0m \u001b[32m━━━━━━━━━━━━━━━━━━━━\u001b[0m\u001b[37m\u001b[0m \u001b[1m5s\u001b[0m 3ms/step - accuracy: 0.7136 - loss: 0.0541 - recall: 0.7796 - val_accuracy: 0.6971 - val_loss: 0.0335 - val_recall: 0.7840\n",
            "Epoch 7/15\n",
            "\u001b[1m1148/1148\u001b[0m \u001b[32m━━━━━━━━━━━━━━━━━━━━\u001b[0m\u001b[37m\u001b[0m \u001b[1m5s\u001b[0m 3ms/step - accuracy: 0.7117 - loss: 0.0537 - recall: 0.7894 - val_accuracy: 0.7106 - val_loss: 0.0329 - val_recall: 0.7565\n",
            "Epoch 8/15\n",
            "\u001b[1m1148/1148\u001b[0m \u001b[32m━━━━━━━━━━━━━━━━━━━━\u001b[0m\u001b[37m\u001b[0m \u001b[1m3s\u001b[0m 3ms/step - accuracy: 0.7226 - loss: 0.0528 - recall: 0.7849 - val_accuracy: 0.7214 - val_loss: 0.0320 - val_recall: 0.7298\n",
            "Epoch 9/15\n",
            "\u001b[1m1148/1148\u001b[0m \u001b[32m━━━━━━━━━━━━━━━━━━━━\u001b[0m\u001b[37m\u001b[0m \u001b[1m6s\u001b[0m 4ms/step - accuracy: 0.7225 - loss: 0.0530 - recall: 0.7889 - val_accuracy: 0.7114 - val_loss: 0.0338 - val_recall: 0.7594\n",
            "Epoch 10/15\n",
            "\u001b[1m1148/1148\u001b[0m \u001b[32m━━━━━━━━━━━━━━━━━━━━\u001b[0m\u001b[37m\u001b[0m \u001b[1m4s\u001b[0m 3ms/step - accuracy: 0.7141 - loss: 0.0539 - recall: 0.7891 - val_accuracy: 0.6934 - val_loss: 0.0333 - val_recall: 0.7890\n",
            "Epoch 11/15\n",
            "\u001b[1m1148/1148\u001b[0m \u001b[32m━━━━━━━━━━━━━━━━━━━━\u001b[0m\u001b[37m\u001b[0m \u001b[1m5s\u001b[0m 3ms/step - accuracy: 0.7127 - loss: 0.0538 - recall: 0.7912 - val_accuracy: 0.6960 - val_loss: 0.0325 - val_recall: 0.7738\n",
            "Epoch 12/15\n",
            "\u001b[1m1148/1148\u001b[0m \u001b[32m━━━━━━━━━━━━━━━━━━━━\u001b[0m\u001b[37m\u001b[0m \u001b[1m4s\u001b[0m 3ms/step - accuracy: 0.7141 - loss: 0.0540 - recall: 0.7836 - val_accuracy: 0.7174 - val_loss: 0.0328 - val_recall: 0.7449\n",
            "Epoch 13/15\n",
            "\u001b[1m1148/1148\u001b[0m \u001b[32m━━━━━━━━━━━━━━━━━━━━\u001b[0m\u001b[37m\u001b[0m \u001b[1m3s\u001b[0m 3ms/step - accuracy: 0.7136 - loss: 0.0535 - recall: 0.7844 - val_accuracy: 0.7075 - val_loss: 0.0330 - val_recall: 0.7724\n",
            "Epoch 14/15\n",
            "\u001b[1m1148/1148\u001b[0m \u001b[32m━━━━━━━━━━━━━━━━━━━━\u001b[0m\u001b[37m\u001b[0m \u001b[1m7s\u001b[0m 5ms/step - accuracy: 0.7144 - loss: 0.0535 - recall: 0.7906 - val_accuracy: 0.7201 - val_loss: 0.0321 - val_recall: 0.7363\n",
            "Epoch 15/15\n",
            "\u001b[1m1148/1148\u001b[0m \u001b[32m━━━━━━━━━━━━━━━━━━━━\u001b[0m\u001b[37m\u001b[0m \u001b[1m3s\u001b[0m 3ms/step - accuracy: 0.7251 - loss: 0.0530 - recall: 0.7959 - val_accuracy: 0.7075 - val_loss: 0.0331 - val_recall: 0.7616\n"
          ]
        }
      ]
    },
    {
      "cell_type": "code",
      "source": [
        "y_pred_probs = model.predict(X_test).flatten()\n",
        "y_pred = (y_pred_probs > 0.52).astype(int)\n",
        "\n",
        "# 8. Report classification metrics\n",
        "r2 = r2_score(y_test, y_pred)\n",
        "accuracy = accuracy_score(y_test, y_pred)\n",
        "recall = recall_score(y_test, y_pred)\n",
        "f1 = f1_score(y_test, y_pred)\n",
        "tn, fp, fn, tp = confusion_matrix(y_test, y_pred).ravel()\n",
        "specificity = tn / (tn + fp)\n",
        "bal_acc = (recall + specificity) / 2\n",
        "\n",
        "print(f\"R² Score: {r2}\")\n",
        "print(f\"Accuracy: {accuracy}\")\n",
        "print(f\"Recall: {recall}\")\n",
        "print(f\"F1 Score: {f1}\")\n",
        "print(f\"Balanced Accuracy: {bal_acc}\")"
      ],
      "metadata": {
        "colab": {
          "base_uri": "https://localhost:8080/"
        },
        "id": "cNTnnapgKpzk",
        "outputId": "87fb7d90-304f-4b1d-9aab-f313e4f9d5f1"
      },
      "id": "cNTnnapgKpzk",
      "execution_count": null,
      "outputs": [
        {
          "output_type": "stream",
          "name": "stdout",
          "text": [
            "\u001b[1m359/359\u001b[0m \u001b[32m━━━━━━━━━━━━━━━━━━━━\u001b[0m\u001b[37m\u001b[0m \u001b[1m1s\u001b[0m 2ms/step\n",
            "R² Score: -1.0010305435180369\n",
            "Accuracy: 0.7428098309220847\n",
            "Recall: 0.7031070195627158\n",
            "F1 Score: 0.4530120481927711\n",
            "Balanced Accuracy: 0.7265021539884244\n"
          ]
        }
      ]
    },
    {
      "cell_type": "code",
      "source": [
        "cm = confusion_matrix(y_test, y_pred)\n",
        "\n",
        "disp = ConfusionMatrixDisplay(confusion_matrix=cm, display_labels=[0, 1])\n",
        "disp.plot(cmap='Blues')"
      ],
      "metadata": {
        "colab": {
          "base_uri": "https://localhost:8080/",
          "height": 466
        },
        "id": "Z6MC7gy_LbKE",
        "outputId": "c110456b-bcb5-488c-d139-69446b21c8f3"
      },
      "id": "Z6MC7gy_LbKE",
      "execution_count": null,
      "outputs": [
        {
          "output_type": "execute_result",
          "data": {
            "text/plain": [
              "<sklearn.metrics._plot.confusion_matrix.ConfusionMatrixDisplay at 0x789dbaf78c50>"
            ]
          },
          "metadata": {},
          "execution_count": 20
        },
        {
          "output_type": "display_data",
          "data": {
            "text/plain": [
              "<Figure size 640x480 with 2 Axes>"
            ],
            "image/png": "[encoded data removed]"
          },
          "metadata": {}
        }
      ]
    },
    {
      "cell_type": "code",
      "source": [
        "from tensorflow.keras.models import Model\n",
        "from tensorflow.keras.layers import Input, Dense"
      ],
      "metadata": {
        "id": "TKUH5rCnjxIF"
      },
      "id": "TKUH5rCnjxIF",
      "execution_count": null,
      "outputs": []
    },
    {
      "cell_type": "code",
      "source": [
        "inputs = Input(shape=(X_train.shape[1],))\n",
        "x = Dense(128, activation='gelu')(inputs)\n",
        "x = Dense(64, activation='relu')(x)\n",
        "x = Dense(32, activation='tanh')(x)\n",
        "features = Dense(16, activation='gelu')(x)  # Hidden layer used as feature extractor\n",
        "output = Dense(1, activation='sigmoid')(features)\n",
        "\n",
        "nn_model = Model(inputs, output)\n",
        "nn_model.compile(optimizer='adam', loss=focal_loss(), metrics=['accuracy', Recall()])"
      ],
      "metadata": {
        "id": "CdsFWk8wMO6-"
      },
      "id": "CdsFWk8wMO6-",
      "execution_count": null,
      "outputs": []
    },
    {
      "cell_type": "code",
      "source": [
        "nn_model.fit(X_train, y_train, epochs=10, batch_size=32, verbose=0, class_weight={0: 1.0, 1: 4.0})"
      ],
      "metadata": {
        "colab": {
          "base_uri": "https://localhost:8080/"
        },
        "id": "SGzt2igclQg_",
        "outputId": "7c5d9446-1e50-47be-cf3a-1a8f08135c47"
      },
      "id": "SGzt2igclQg_",
      "execution_count": null,
      "outputs": [
        {
          "output_type": "execute_result",
          "data": {
            "text/plain": [
              "<keras.src.callbacks.history.History at 0x789db1ca8750>"
            ]
          },
          "metadata": {},
          "execution_count": 23
        }
      ]
    },
    {
      "cell_type": "code",
      "source": [
        "feature_extractor = Model(inputs, features)\n",
        "X_train_feat = feature_extractor.predict(X_train)\n",
        "X_test_feat = feature_extractor.predict(X_test)\n",
        "\n",
        "\n",
        "rf = RandomForestClassifier(random_state=42, class_weight={0: 1.0, 1: 5.0})\n",
        "param_grid = {\n",
        "    \"n_estimators\": [50, 100],\n",
        "    \"max_depth\": [None, 10, 20]\n",
        "}\n",
        "\n",
        "grid_search = GridSearchCV(estimator=rf, param_grid=param_grid, cv=5, n_jobs=-1, scoring='recall', verbose=1)\n",
        "grid_search.fit(X_train_feat, y_train)\n",
        "\n",
        "best_model = grid_search.best_estimator_\n",
        "\n",
        "y_pred = best_model.predict(X_test_feat)"
      ],
      "metadata": {
        "colab": {
          "base_uri": "https://localhost:8080/"
        },
        "id": "tKejQvSIkJtP",
        "outputId": "cd0723cd-2dc7-495b-f7a3-e0ccba2c44bc"
      },
      "id": "tKejQvSIkJtP",
      "execution_count": null,
      "outputs": [
        {
          "output_type": "stream",
          "name": "stdout",
          "text": [
            "\u001b[1m1435/1435\u001b[0m \u001b[32m━━━━━━━━━━━━━━━━━━━━\u001b[0m\u001b[37m\u001b[0m \u001b[1m3s\u001b[0m 2ms/step\n",
            "\u001b[1m359/359\u001b[0m \u001b[32m━━━━━━━━━━━━━━━━━━━━\u001b[0m\u001b[37m\u001b[0m \u001b[1m1s\u001b[0m 4ms/step\n",
            "Fitting 5 folds for each of 6 candidates, totalling 30 fits\n"
          ]
        }
      ]
    },
    {
      "cell_type": "code",
      "source": [
        "r2 = r2_score(y_test, y_pred)\n",
        "accuracy = accuracy_score(y_test, y_pred)\n",
        "recall = recall_score(y_test, y_pred)\n",
        "\n",
        "print(f\"R² Score: {r2}\")\n",
        "print(f\"Accuracy: {accuracy}\")\n",
        "print(f\"Recall: {recall}\")"
      ],
      "metadata": {
        "colab": {
          "base_uri": "https://localhost:8080/"
        },
        "id": "c9FgnOxGkDkD",
        "outputId": "f440a08b-0d19-4752-cf31-851e558ccc06"
      },
      "id": "c9FgnOxGkDkD",
      "execution_count": null,
      "outputs": [
        {
          "output_type": "stream",
          "name": "stdout",
          "text": [
            "R² Score: -0.9834003184650146\n",
            "Accuracy: 0.7450758236011853\n",
            "Recall: 0.6881472957422324\n"
          ]
        }
      ]
    },
    {
      "cell_type": "code",
      "source": [],
      "metadata": {
        "id": "y8CjY2OnkTHo"
      },
      "id": "y8CjY2OnkTHo",
      "execution_count": null,
      "outputs": []
    },
    {
      "cell_type": "code",
      "source": [
        "nn_model.fit(X_train, y_train, epochs=10, batch_size=32, verbose=0, class_weight={0: 1.0, 1: 4.0})"
      ],
      "metadata": {
        "colab": {
          "base_uri": "https://localhost:8080/"
        },
        "id": "d-bsSLKzlOWk",
        "outputId": "e008faf2-34c4-42f4-f650-5f1028c540fe"
      },
      "id": "d-bsSLKzlOWk",
      "execution_count": null,
      "outputs": [
        {
          "output_type": "execute_result",
          "data": {
            "text/plain": [
              "<keras.src.callbacks.history.History at 0x7e86f61c8450>"
            ]
          },
          "metadata": {},
          "execution_count": 36
        }
      ]
    },
    {
      "cell_type": "code",
      "source": [
        "nn_probs = nn_model.predict(X_test).flatten()\n",
        "\n",
        "\n",
        "xgb_model = xgb.XGBClassifier(use_label_encoder=True, eval_metric='logloss')\n",
        "xgb_model.fit(X_train, y_train)\n",
        "xgb_probs = xgb_model.predict_proba(X_test)[:, 1]"
      ],
      "metadata": {
        "colab": {
          "base_uri": "https://localhost:8080/"
        },
        "id": "B3fNbjmLlOHX",
        "outputId": "def249d0-a166-40c5-bddf-98846c8a20dc"
      },
      "id": "B3fNbjmLlOHX",
      "execution_count": null,
      "outputs": [
        {
          "output_type": "stream",
          "name": "stdout",
          "text": [
            "\u001b[1m359/359\u001b[0m \u001b[32m━━━━━━━━━━━━━━━━━━━━\u001b[0m\u001b[37m\u001b[0m \u001b[1m1s\u001b[0m 1ms/step\n"
          ]
        },
        {
          "output_type": "stream",
          "name": "stderr",
          "text": [
            "/usr/local/lib/python3.11/dist-packages/xgboost/core.py:158: UserWarning: [23:37:20] WARNING: /workspace/src/learner.cc:740: \n",
            "Parameters: { \"use_label_encoder\" } are not used.\n",
            "\n",
            "  warnings.warn(smsg, UserWarning)\n"
          ]
        }
      ]
    },
    {
      "cell_type": "code",
      "source": [
        "ensemble_probs = (2*nn_probs + xgb_probs) / 2\n",
        "ensemble_preds = (ensemble_probs > 0.57).astype(int)\n",
        "\n",
        "r2 = r2_score(y_test, ensemble_preds)\n",
        "accuracy = accuracy_score(y_test, ensemble_preds)\n",
        "recall = recall_score(y_test, ensemble_preds)\n",
        "f1 = f1_score(y_test, ensemble_preds)\n",
        "tn, fp, fn, tp = confusion_matrix(y_test, ensemble_preds).ravel()\n",
        "specificity = tn / (tn + fp)\n",
        "bal_acc = (recall + specificity) / 2\n",
        "\n",
        "print(f\"R² Score: {r2}\")\n",
        "print(f\"Accuracy: {accuracy}\")\n",
        "print(f\"Recall: {recall}\")\n",
        "print(f\"F1 Score: {f1}\")\n",
        "print(f\"Balanced Accuracy: {bal_acc}\")"
      ],
      "metadata": {
        "colab": {
          "base_uri": "https://localhost:8080/"
        },
        "id": "ZoX9QGuXlWat",
        "outputId": "b2ae354d-4540-4523-feb2-51200881ad7f"
      },
      "id": "ZoX9QGuXlWat",
      "execution_count": null,
      "outputs": [
        {
          "output_type": "stream",
          "name": "stdout",
          "text": [
            "R² Score: -1.2180179287860042\n",
            "Accuracy: 0.7149206902562315\n",
            "Recall: 0.7330264672036824\n",
            "F1 Score: 0.4378759236982299\n",
            "Balanced Accuracy: 0.722357522837667\n"
          ]
        }
      ]
    },
    {
      "cell_type": "code",
      "source": [
        "\n",
        "nn_probs = nn_model.predict(X_test).flatten()\n",
        "params = {'classifier__learning_rate': 0.1, 'classifier__max_depth': -1, 'classifier__n_estimators': 100}\n",
        "\n",
        "neg = np.sum(y_train == 0)\n",
        "pos = np.sum(y_train == 1)\n",
        "scale_pos_weight = 2*neg / pos\n",
        "\n",
        "lgb_model = lgb.LGBMClassifier(\n",
        "    objective='binary',\n",
        "    scale_pos_weight=scale_pos_weight,\n",
        "    n_estimators=100,\n",
        "    learning_rate=0.1,\n",
        "    max_depth=-1,\n",
        "    random_state=42\n",
        ")\n",
        "\n",
        "lgb_model.fit(X_train, y_train)\n",
        "lgb_probs = lgb_model.predict_proba(X_test)[:, 1]"
      ],
      "metadata": {
        "colab": {
          "base_uri": "https://localhost:8080/"
        },
        "id": "zNugCeM2shjj",
        "outputId": "08cc45de-58bd-4df5-dead-162f7fbe6824"
      },
      "id": "zNugCeM2shjj",
      "execution_count": null,
      "outputs": [
        {
          "output_type": "stream",
          "name": "stdout",
          "text": [
            "\u001b[1m359/359\u001b[0m \u001b[32m━━━━━━━━━━━━━━━━━━━━\u001b[0m\u001b[37m\u001b[0m \u001b[1m0s\u001b[0m 1ms/step\n"
          ]
        },
        {
          "output_type": "stream",
          "name": "stderr",
          "text": [
            "/usr/local/lib/python3.11/dist-packages/sklearn/utils/deprecation.py:151: FutureWarning: 'force_all_finite' was renamed to 'ensure_all_finite' in 1.6 and will be removed in 1.8.\n",
            "  warnings.warn(\n"
          ]
        },
        {
          "output_type": "stream",
          "name": "stdout",
          "text": [
            "[LightGBM] [Info] Number of positive: 7080, number of negative: 38814\n",
            "[LightGBM] [Info] Auto-choosing row-wise multi-threading, the overhead of testing was 0.007462 seconds.\n",
            "You can set `force_row_wise=true` to remove the overhead.\n",
            "And if memory is not enough, you can set `force_col_wise=true`.\n",
            "[LightGBM] [Info] Total Bins 211\n",
            "[LightGBM] [Info] Number of data points in the train set: 45894, number of used features: 21\n",
            "[LightGBM] [Info] [binary:BoostFromScore]: pavg=0.154269 -> initscore=-1.701507\n",
            "[LightGBM] [Info] Start training from score -1.701507\n"
          ]
        },
        {
          "output_type": "stream",
          "name": "stderr",
          "text": [
            "/usr/local/lib/python3.11/dist-packages/sklearn/utils/deprecation.py:151: FutureWarning: 'force_all_finite' was renamed to 'ensure_all_finite' in 1.6 and will be removed in 1.8.\n",
            "  warnings.warn(\n"
          ]
        }
      ]
    },
    {
      "cell_type": "code",
      "source": [
        "ensemble_probs2 = (1.8*nn_probs + lgb_probs) / 2\n",
        "ensemble_preds2 = (ensemble_probs2 > 0.8).astype(int)\n",
        "\n",
        "r2 = r2_score(y_test, ensemble_preds2)\n",
        "accuracy = accuracy_score(y_test, ensemble_preds2)\n",
        "recall = recall_score(y_test, ensemble_preds2)\n",
        "f1 = f1_score(y_test, ensemble_preds2)\n",
        "tn, fp, fn, tp = confusion_matrix(y_test, ensemble_preds2).ravel()\n",
        "specificity = tn / (tn + fp)\n",
        "bal_acc = (recall + specificity) / 2\n",
        "\n",
        "print(f\"R² Score: {r2}\")\n",
        "print(f\"Accuracy: {accuracy}\")\n",
        "print(f\"Recall: {recall}\")\n",
        "print(f\"F1 Score: {f1}\")\n",
        "print(f\"Balanced Accuracy: {bal_acc}\")"
      ],
      "metadata": {
        "colab": {
          "base_uri": "https://localhost:8080/"
        },
        "id": "7mmAn3mesisH",
        "outputId": "89b56689-72eb-46a6-c722-32f5dc61e476"
      },
      "id": "7mmAn3mesisH",
      "execution_count": null,
      "outputs": [
        {
          "output_type": "stream",
          "name": "stdout",
          "text": [
            "R² Score: -1.0457841917295552\n",
            "Accuracy: 0.7370576956597524\n",
            "Recall: 0.7059838895281934\n",
            "F1 Score: 0.4485468835679035\n",
            "Balanced Accuracy: 0.7242943276728888\n"
          ]
        }
      ]
    },
    {
      "cell_type": "code",
      "source": [
        "a = 2.9\n",
        "b = 1\n",
        "c = 1\n",
        "t = 0.75\n",
        "\n",
        "ensemble_probs3 = (a*nn_probs + b*xgb_probs + c*lgb_probs) / 3\n",
        "ensemble_preds3 = (ensemble_probs3 > t).astype(int)\n",
        "\n",
        "r2 = r2_score(y_test, ensemble_preds3)\n",
        "accuracy = accuracy_score(y_test, ensemble_preds3)\n",
        "recall = recall_score(y_test, ensemble_preds3)\n",
        "f1 = f1_score(y_test, ensemble_preds3)\n",
        "tn, fp, fn, tp = confusion_matrix(y_test, ensemble_preds3).ravel()\n",
        "specificity = tn / (tn + fp)\n",
        "bal_acc = (recall + specificity) / 2\n",
        "\n",
        "print(f\"R² Score: {r2:.3f}\")\n",
        "print(f\"Accuracy: {accuracy:.3f}\")\n",
        "print(f\"Recall: {recall:.3f}\")\n",
        "print(f\"F1 Score: {f1:.3f}\")\n",
        "print(f\"Balanced Accuracy: {bal_acc:.3f}\")"
      ],
      "metadata": {
        "colab": {
          "base_uri": "https://localhost:8080/"
        },
        "id": "CS_8zPQH1KUj",
        "outputId": "20996016-dad2-4b54-eeb0-61ac749bf44a"
      },
      "id": "CS_8zPQH1KUj",
      "execution_count": null,
      "outputs": [
        {
          "output_type": "stream",
          "name": "stdout",
          "text": [
            "R² Score: -1.236\n",
            "Accuracy: 0.713\n",
            "Recall: 0.742\n",
            "F1 Score: 0.439\n",
            "Balanced Accuracy: 0.725\n"
          ]
        }
      ]
    },
    {
      "cell_type": "code",
      "source": [
        "df.columns"
      ],
      "metadata": {
        "colab": {
          "base_uri": "https://localhost:8080/"
        },
        "id": "ROMiEgsi1oiN",
        "outputId": "648ae533-2bef-4dfe-a894-aa711b2d2460"
      },
      "id": "ROMiEgsi1oiN",
      "execution_count": null,
      "outputs": [
        {
          "output_type": "execute_result",
          "data": {
            "text/plain": [
              "Index(['index', 'Diabetes_binary', 'HighBP', 'HighChol', 'CholCheck', 'BMI',\n",
              "       'Smoker', 'Stroke', 'HeartDiseaseorAttack', 'PhysActivity', 'Fruits',\n",
              "       'Veggies', 'HvyAlcoholConsump', 'AnyHealthcare', 'NoDocbcCost',\n",
              "       'GenHlth', 'MentHlth', 'PhysHlth', 'DiffWalk', 'Sex', 'Age',\n",
              "       'Education', 'Income', 'BMI_log', 'GenHlth_log', 'MentHlth_log',\n",
              "       'PhysHlth_log', 'Age_log', 'Education_log', 'Income_log'],\n",
              "      dtype='object')"
            ]
          },
          "metadata": {},
          "execution_count": 127
        }
      ]
    },
    {
      "cell_type": "code",
      "source": [],
      "metadata": {
        "id": "-7xL-ljr2Ce0"
      },
      "id": "-7xL-ljr2Ce0",
      "execution_count": null,
      "outputs": []
    },
    {
      "cell_type": "code",
      "source": [
        "df_sampled = df.sample(frac=0.25, random_state=42)"
      ],
      "metadata": {
        "id": "rjliKSJfy0AJ"
      },
      "id": "rjliKSJfy0AJ",
      "execution_count": null,
      "outputs": []
    },
    {
      "cell_type": "code",
      "source": [
        "df_sampled['AgeBMI_log'] = (df_sampled['Age'] * df_sampled['BMI'])\n",
        "df_sampled['HighRisk'] = df_sampled.apply(lambda row: 1 if row['Smoker'] == 1 or row['Stroke'] == 1 or row['HvyAlcoholConsump'] == 1 else 0, axis=1)\n",
        "df_sampled['SuperHighRisk'] = df_sampled.apply(lambda row: 1 if row['Smoker'] == 1 and row['Stroke'] == 1 and row['HvyAlcoholConsump'] == 1 else 0, axis=1)\n",
        "df_sampled['HighBP_Chol'] = df_sampled.apply(lambda row: 1 if row['HighBP'] == 1 or row['HighChol'] == 1 else 0, axis=1)\n",
        "df_sampled['Fruits_Veggies'] = df_sampled.apply(lambda row: 1 if row['Fruits'] == 1 and row['Veggies'] == 1 else 0, axis=1)\n",
        "df_sampled['Fruits_or_Veggies'] = df_sampled.apply(lambda row: 1 if row['Fruits'] == 1 or row['Veggies'] == 1 else 0, axis=1)\n",
        "df_sampled['MaxHealth'] = df_sampled[['GenHlth', 'MentHlth', 'PhysHlth']].max(axis=1)\n",
        "df_sampled['MinHealth'] = df_sampled[['GenHlth', 'MentHlth', 'PhysHlth']].min(axis=1)"
      ],
      "metadata": {
        "id": "V4HIvWG60-8j"
      },
      "id": "V4HIvWG60-8j",
      "execution_count": null,
      "outputs": []
    },
    {
      "cell_type": "code",
      "source": [
        "X = df_sampled.drop(columns=['Diabetes_binary'])\n",
        "X = X.drop(columns=['index', 'GenHlth_log', 'BMI', 'MentHlth_log', 'PhysHlth_log', 'Age_log', 'Education_log', 'Income_log'])\n",
        "# X = X.drop(columns=cols_to_drop)\n",
        "\n",
        "y = df_sampled['Diabetes_binary']"
      ],
      "metadata": {
        "id": "tB3v_a2GllwA"
      },
      "id": "tB3v_a2GllwA",
      "execution_count": null,
      "outputs": []
    },
    {
      "cell_type": "code",
      "source": [
        "scaler = StandardScaler()\n",
        "X_scaled = scaler.fit_transform(X)\n",
        "\n",
        "pca = PCA()\n",
        "X_pca = pca.fit_transform(X)\n",
        "\n",
        "plt.figure(figsize=(8, 5))\n",
        "plt.plot(range(1, len(pca.explained_variance_ratio_) + 1),\n",
        "         pca.explained_variance_ratio_.cumsum(), marker='o')\n",
        "plt.title('Cumulative Explained Variance by PCA Components')\n",
        "plt.xlabel('Number of Components')\n",
        "plt.ylabel('Cumulative Explained Variance')\n",
        "plt.grid(True)\n",
        "plt.show()"
      ],
      "metadata": {
        "colab": {
          "base_uri": "https://localhost:8080/",
          "height": 487
        },
        "id": "35du4hayy22c",
        "outputId": "8cdf3f07-234e-40a6-bd63-c5fde5f3ad67"
      },
      "id": "35du4hayy22c",
      "execution_count": null,
      "outputs": [
        {
          "output_type": "display_data",
          "data": {
            "text/plain": [
              "<Figure size 800x500 with 1 Axes>"
            ],
            "image/png": "[encoded data removed]"
          },
          "metadata": {}
        }
      ]
    },
    {
      "cell_type": "code",
      "source": [
        "pca = PCA(n_components=15)\n",
        "X_reduced = pca.fit_transform(X_scaled)"
      ],
      "metadata": {
        "id": "j_BMyY0EzbOk"
      },
      "id": "j_BMyY0EzbOk",
      "execution_count": null,
      "outputs": []
    },
    {
      "cell_type": "code",
      "source": [
        "X_train_full, X_test, y_train_full, y_test = train_test_split(X, y, stratify=y,\n",
        "                                                              test_size=0.25, random_state=42)\n",
        "\n",
        "# Split training into training + validation (for meta-learner)\n",
        "X_train, X_val, y_train, y_val = train_test_split(X_train_full, y_train_full,\n",
        "                                                  stratify=y_train_full,test_size=0.25, random_state=42)\n",
        "\n",
        "# Scale\n",
        "scaler = StandardScaler()\n",
        "X_train = scaler.fit_transform(X_train)\n",
        "X_val = scaler.transform(X_val)\n",
        "X_test = scaler.transform(X_test)\n",
        "\n",
        "# SMOTE\n",
        "# X_train, y_train = SMOTE(sampling_strategy=0.6, random_state=42).fit_resample(X_train, y_train)"
      ],
      "metadata": {
        "id": "k2WxSo71rr3M"
      },
      "id": "k2WxSo71rr3M",
      "execution_count": null,
      "outputs": []
    },
    {
      "cell_type": "code",
      "source": [
        "# Neural Net\n",
        "nn_model = Sequential([\n",
        "    Dense(128, activation='gelu', input_shape=(X_train.shape[1],)),\n",
        "    Dropout(0.2),\n",
        "    Dense(64, activation='gelu'),\n",
        "    Dropout(0.2),\n",
        "    Dense(32, activation='tanh'),\n",
        "    Dropout(0.2),\n",
        "    Dense(1, activation='sigmoid')  # For binary classification\n",
        "])\n",
        "nn_model.compile(optimizer='adam', loss=focal_loss(), metrics=['accuracy', Recall()])\n",
        "nn_model.fit(X_train, y_train, epochs=10, batch_size=32, verbose=0, class_weight={0: 1.0, 1: 4.0})\n",
        "\n",
        "# LGBM\n",
        "neg = np.sum(y_train == 0)\n",
        "pos = np.sum(y_train == 1)\n",
        "scale_pos_weight = 2*neg / pos\n",
        "\n",
        "lgb_model = lgb.LGBMClassifier(\n",
        "    objective='binary',\n",
        "    scale_pos_weight=scale_pos_weight,\n",
        "    n_estimators=100,\n",
        "    learning_rate=0.1,\n",
        "    max_depth=-1,\n",
        "    random_state=42\n",
        ")\n",
        "\n",
        "lgb_model.fit(X_train, y_train)\n",
        "lgb_probs = lgb_model.predict_proba(X_test)[:, 1]\n",
        "\n",
        "# XGBoost\n",
        "xgb_model = xgb.XGBClassifier(use_label_encoder=False, eval_metric='logloss')\n",
        "xgb_model.fit(X_train, y_train)\n",
        "\n",
        "# Create meta-features from validation set ---\n",
        "\n",
        "val_nn_probs = nn_model.predict(X_val).flatten()\n",
        "val_lgb_probs = lgb_model.predict_proba(X_val)[:, 1]\n",
        "val_xgb_probs = xgb_model.predict_proba(X_val)[:, 1]\n",
        "\n",
        "val_nn_probs_sq = np.square(val_nn_probs)\n",
        "val_rf_probs_sq = np.square(val_lgb_probs)\n",
        "val_xgb_probs_sq = np.square(val_xgb_probs)\n",
        "\n",
        "val_nn_probs_log = np.log1p(val_nn_probs)\n",
        "val_rf_probs_log = np.log1p(val_lgb_probs)\n",
        "val_xgb_probs_log = np.log1p(val_xgb_probs)\n",
        "\n",
        "val_nn_probs_cb = np.power(val_nn_probs, 3)\n",
        "val_rf_probs_cb = np.power(val_lgb_probs, 3)\n",
        "val_xgb_probs_cb = np.power(val_xgb_probs, 3)\n",
        "\n",
        "# X_meta_train = np.column_stack((val_nn_probs, val_rf_probs))\n",
        "\n",
        "\n",
        "# X_meta_train = np.column_stack((val_nn_probs, val_rf_probs, val_xgb_probs,\n",
        "#                                 val_nn_probs_sq, val_rf_probs_sq, val_xgb_probs_sq,\n",
        "#                                 val_nn_probs_cb, val_rf_probs_cb, val_xgb_probs_cb))\n",
        "\n",
        "# Train meta-learner ---\n",
        "\n",
        "X_meta_train = np.column_stack((3*val_nn_probs,\n",
        "                                val_lgb_probs,\n",
        "                                val_xgb_probs))\n",
        "\n",
        "# Engineered features\n",
        "prob_mean = np.mean(X_meta_train, axis=1)\n",
        "prob_std = np.std(X_meta_train, axis=1)\n",
        "prob_max = np.max(X_meta_train, axis=1)\n",
        "prob_min = np.min(X_meta_train, axis=1)\n",
        "prob_range = prob_max - prob_min\n",
        "dist_05 = np.abs(X_meta_train - 0.5)\n",
        "\n",
        "X_meta_feat = np.column_stack((\n",
        "    X_meta_train,\n",
        "    prob_mean,\n",
        "    prob_std,\n",
        "    prob_range,\n",
        "    dist_05[:, 0],\n",
        "    dist_05[:, 1],\n",
        "    dist_05[:, 2],\n",
        "))\n",
        "\n",
        "# meta_model = RandomForestClassifier(n_estimators=100, random_state=42)\n",
        "# meta_model.fit(X_meta_train, y_val)\n",
        "\n",
        "class_weights = class_weight.compute_class_weight(\n",
        "    class_weight='balanced',\n",
        "    classes=np.unique(y_val),\n",
        "    y=y_train\n",
        ")\n",
        "class_weights = dict(enumerate(class_weights))\n",
        "\n",
        "meta_model = Sequential([\n",
        "    Dense(64, activation='gelu', input_shape=(X_meta_feat.shape[1],)),\n",
        "    Dropout(0.2),\n",
        "    Dense(32, activation='tanh'),\n",
        "    Dropout(0.2),\n",
        "    Dense(1, activation='sigmoid')  # For binary classification\n",
        "])\n",
        "\n",
        "meta_model.compile(optimizer='adam', loss=focal_loss(),\n",
        "                   metrics=['accuracy', Recall()])\n",
        "meta_model.fit(X_meta_feat, y_val, epochs=10, batch_size=32,\n",
        "               verbose=0, class_weight=class_weights)\n",
        "\n",
        "# Generate test set meta-features ---\n",
        "test_nn_probs = nn_model.predict(X_test).flatten()\n",
        "test_lgb_probs = lgb_model.predict_proba(X_test)[:, 1]\n",
        "test_xgb_probs = xgb_model.predict_proba(X_test)[:, 1]\n",
        "\n",
        "test_nn_probs_sq = np.square(test_nn_probs)\n",
        "test_lgb_probs_sq = np.square(test_lgb_probs)\n",
        "test_xgb_probs_sq = np.square(test_xgb_probs)\n",
        "\n",
        "test_nn_probs_cb = np.power(test_nn_probs, 3)\n",
        "test_lgb_probs_cb = np.power(test_lgb_probs, 3)\n",
        "test_xgb_probs_cb = np.power(test_xgb_probs, 3)\n",
        "\n",
        "test_nn_probs_log = np.log1p(test_nn_probs)\n",
        "test_lgb_probs_log = np.log1p(test_lgb_probs)\n",
        "test_xgb_probs_log = np.log1p(test_xgb_probs)\n",
        "\n",
        "# X_meta_test = np.column_stack((test_nn_probs, test_rf_probs))\n",
        "\n",
        "X_meta_test = np.column_stack((3*test_nn_probs, test_lgb_probs, test_xgb_probs))\n",
        "\n",
        "prob_mean = np.mean(X_meta_test, axis=1)\n",
        "prob_std = np.std(X_meta_test, axis=1)\n",
        "prob_max = np.max(X_meta_test, axis=1)\n",
        "prob_min = np.min(X_meta_test, axis=1)\n",
        "prob_range = prob_max - prob_min\n",
        "dist_05 = np.abs(X_meta_test - 0.5)\n",
        "\n",
        "X_meta_test_feat = np.column_stack((\n",
        "    X_meta_test,\n",
        "    prob_mean,\n",
        "    prob_std,\n",
        "    prob_range,\n",
        "    dist_05[:, 0],\n",
        "    dist_05[:, 1],\n",
        "    dist_05[:, 2],\n",
        "))\n",
        "# X_meta_test = np.column_stack((test_nn_probs, test_rf_probs, test_xgb_probs,\n",
        "#                                test_nn_probs_sq, test_rf_probs_sq, test_xgb_probs_sq,\n",
        "#                                test_nn_probs_cb, test_rf_probs_cb, test_xgb_probs_cb))\n",
        "\n",
        "# Predict and evaluate ---\n",
        "# y_pred_meta = meta_model.predict(X_meta_test)"
      ],
      "metadata": {
        "colab": {
          "base_uri": "https://localhost:8080/"
        },
        "id": "T4YqFBM6rrrE",
        "outputId": "4b6ec7f9-471c-467e-a688-37bd0e6c37cc"
      },
      "id": "T4YqFBM6rrrE",
      "execution_count": null,
      "outputs": [
        {
          "output_type": "stream",
          "name": "stderr",
          "text": [
            "/usr/local/lib/python3.11/dist-packages/keras/src/layers/core/dense.py:87: UserWarning: Do not pass an `input_shape`/`input_dim` argument to a layer. When using Sequential models, prefer using an `Input(shape)` object as the first layer in the model instead.\n",
            "  super().__init__(activity_regularizer=activity_regularizer, **kwargs)\n",
            "/usr/local/lib/python3.11/dist-packages/sklearn/utils/deprecation.py:151: FutureWarning: 'force_all_finite' was renamed to 'ensure_all_finite' in 1.6 and will be removed in 1.8.\n",
            "  warnings.warn(\n"
          ]
        },
        {
          "output_type": "stream",
          "name": "stdout",
          "text": [
            "[LightGBM] [Info] Number of positive: 4960, number of negative: 27309\n",
            "[LightGBM] [Info] Auto-choosing row-wise multi-threading, the overhead of testing was 0.006412 seconds.\n",
            "You can set `force_row_wise=true` to remove the overhead.\n",
            "And if memory is not enough, you can set `force_col_wise=true`.\n",
            "[LightGBM] [Info] Total Bins 209\n",
            "[LightGBM] [Info] Number of data points in the train set: 32269, number of used features: 21\n",
            "[LightGBM] [Info] [binary:BoostFromScore]: pavg=0.153708 -> initscore=-1.705811\n",
            "[LightGBM] [Info] Start training from score -1.705811\n"
          ]
        },
        {
          "output_type": "stream",
          "name": "stderr",
          "text": [
            "/usr/local/lib/python3.11/dist-packages/sklearn/utils/deprecation.py:151: FutureWarning: 'force_all_finite' was renamed to 'ensure_all_finite' in 1.6 and will be removed in 1.8.\n",
            "  warnings.warn(\n",
            "/usr/local/lib/python3.11/dist-packages/xgboost/core.py:158: UserWarning: [23:23:02] WARNING: /workspace/src/learner.cc:740: \n",
            "Parameters: { \"use_label_encoder\" } are not used.\n",
            "\n",
            "  warnings.warn(smsg, UserWarning)\n"
          ]
        },
        {
          "output_type": "stream",
          "name": "stdout",
          "text": [
            "\u001b[1m337/337\u001b[0m \u001b[32m━━━━━━━━━━━━━━━━━━━━\u001b[0m\u001b[37m\u001b[0m \u001b[1m1s\u001b[0m 4ms/step\n"
          ]
        },
        {
          "output_type": "stream",
          "name": "stderr",
          "text": [
            "/usr/local/lib/python3.11/dist-packages/sklearn/utils/deprecation.py:151: FutureWarning: 'force_all_finite' was renamed to 'ensure_all_finite' in 1.6 and will be removed in 1.8.\n",
            "  warnings.warn(\n",
            "/usr/local/lib/python3.11/dist-packages/keras/src/layers/core/dense.py:87: UserWarning: Do not pass an `input_shape`/`input_dim` argument to a layer. When using Sequential models, prefer using an `Input(shape)` object as the first layer in the model instead.\n",
            "  super().__init__(activity_regularizer=activity_regularizer, **kwargs)\n"
          ]
        },
        {
          "output_type": "stream",
          "name": "stdout",
          "text": [
            "\u001b[1m449/449\u001b[0m \u001b[32m━━━━━━━━━━━━━━━━━━━━\u001b[0m\u001b[37m\u001b[0m \u001b[1m1s\u001b[0m 1ms/step\n"
          ]
        },
        {
          "output_type": "stream",
          "name": "stderr",
          "text": [
            "/usr/local/lib/python3.11/dist-packages/sklearn/utils/deprecation.py:151: FutureWarning: 'force_all_finite' was renamed to 'ensure_all_finite' in 1.6 and will be removed in 1.8.\n",
            "  warnings.warn(\n"
          ]
        }
      ]
    },
    {
      "cell_type": "code",
      "source": [
        "y_pred_probs = meta_model.predict(X_meta_test_feat).flatten()\n",
        "y_pred_meta = (y_pred_probs > 0.48).astype(int)\n",
        "\n",
        "r2 = r2_score(y_test, y_pred_meta)\n",
        "accuracy = accuracy_score(y_test, y_pred_meta)\n",
        "recall = recall_score(y_test, y_pred_meta)\n",
        "f1 = f1_score(y_test, y_pred_meta)\n",
        "tn, fp, fn, tp = confusion_matrix(y_test, y_pred_meta).ravel()\n",
        "specificity = tn / (tn + fp)\n",
        "bal_acc = (recall + specificity) / 2\n",
        "\n",
        "print(f\"R² Score: {r2:.3f}\")\n",
        "print(f\"Accuracy: {accuracy:.3f}\")\n",
        "print(f\"Recall: {recall:.3f}\")\n",
        "print(f\"F1 Score: {f1:.3f}\")\n",
        "print(f\"Bal. Accuracy: {bal_acc:.3f}\")"
      ],
      "metadata": {
        "colab": {
          "base_uri": "https://localhost:8080/"
        },
        "id": "xmPSqJW-r3x0",
        "outputId": "940eb32a-cec0-44cb-dea0-32b40c7b6ce8"
      },
      "id": "xmPSqJW-r3x0",
      "execution_count": null,
      "outputs": [
        {
          "output_type": "stream",
          "name": "stdout",
          "text": [
            "\u001b[1m449/449\u001b[0m \u001b[32m━━━━━━━━━━━━━━━━━━━━\u001b[0m\u001b[37m\u001b[0m \u001b[1m1s\u001b[0m 2ms/step\n",
            "R² Score: -1.254\n",
            "Accuracy: 0.707\n",
            "Recall: 0.772\n",
            "F1 Score: 0.447\n",
            "Bal. Accuracy: 0.733\n"
          ]
        }
      ]
    },
    {
      "cell_type": "code",
      "source": [
        "# For neural network\n",
        "y_nn_pred = (test_nn_probs > 0.5).astype(int)\n",
        "print(\"NN Recall:\", recall_score(y_test, y_nn_pred))\n",
        "y_nn_pred = (test_nn_probs > 0.5).astype(int)\n",
        "print(\"NN Accuracy:\", accuracy_score(y_test, y_nn_pred))\n",
        "y_nn_pred = (test_nn_probs > 0.5).astype(int)\n",
        "print(\"NN f1:\", f1_score(y_test, y_nn_pred))\n",
        "\n",
        "# For Random Forest\n",
        "y_lgb_pred = (test_lgb_probs > 0.5).astype(int)\n",
        "print(\"RF Recall:\", recall_score(y_test, y_lgb_pred))\n",
        "y_lgb_pred = (test_lgb_probs > 0.5).astype(int)\n",
        "print(\"RF Accuracy:\", accuracy_score(y_test, y_lgb_pred))\n",
        "y_lgb_pred = (test_lgb_probs > 0.5).astype(int)\n",
        "print(\"RF f1:\", f1_score(y_test, y_lgb_pred))\n",
        "\n",
        "# For XGBoost\n",
        "y_xgb_pred = (test_xgb_probs > 0.5).astype(int)\n",
        "print(\"XGBoost Recall:\", recall_score(y_test, y_xgb_pred))\n",
        "y_xgb_pred = (test_xgb_probs > 0.5).astype(int)\n",
        "print(\"XGBoost Accuracy:\", accuracy_score(y_test, y_xgb_pred))\n",
        "y_xgb_pred = (test_xgb_probs > 0.5).astype(int)\n",
        "print(\"XGBoost f1:\", f1_score(y_test, y_xgb_pred))\n",
        "\n",
        "# Meta model\n",
        "print(\"Meta-model Recall:\", recall_score(y_test, y_pred_meta))\n",
        "print(\"Meta-model Accuracy:\", accuracy_score(y_test, y_pred_meta))\n",
        "print(\"Meta-model f1:\", f1_score(y_test, y_pred_meta))"
      ],
      "metadata": {
        "id": "-IaIO30UtZ2Q",
        "colab": {
          "base_uri": "https://localhost:8080/"
        },
        "outputId": "85b4888e-eda3-4045-d1e3-d584dba43713"
      },
      "id": "-IaIO30UtZ2Q",
      "execution_count": null,
      "outputs": [
        {
          "output_type": "stream",
          "name": "stdout",
          "text": [
            "NN Recall: 0.6833030852994555\n",
            "NN Accuracy: 0.7567284897503835\n",
            "NN f1: 0.4633133364097831\n",
            "RF Recall: 0.8847549909255898\n",
            "RF Accuracy: 0.6113512759726677\n",
            "RF f1: 0.4116529449018366\n",
            "XGBoost Recall: 0.18738656987295826\n",
            "XGBoost Accuracy: 0.8454887742295356\n",
            "XGBoost f1: 0.2715318869165023\n",
            "Meta-model Recall: 0.17286751361161526\n",
            "Meta-model Accuracy: 0.8378887184493097\n",
            "Meta-model f1: 0.2468415937803693\n"
          ]
        }
      ]
    },
    {
      "cell_type": "code",
      "source": [
        "y_meta_probs = meta_model.predict_proba(X_meta_test)[:, 1]\n",
        "\n",
        "# Try lower thresholds\n",
        "for t in [0.5, 0.4, 0.3, 0.2, 0.15, 0.1]:\n",
        "    y_thresh_pred = (y_meta_probs > t).astype(int)\n",
        "    print(f\"Threshold {t:} → Recall: {recall_score(y_test, y_thresh_pred):.3f}\")\n",
        "    print(f\"Threshold {t:} → Accuracy: {accuracy_score(y_test, y_thresh_pred):.3f}\")\n",
        "    print(f\"Threshold {t:} → F1: {f1_score(y_test, y_thresh_pred):.3f}\")"
      ],
      "metadata": {
        "colab": {
          "base_uri": "https://localhost:8080/"
        },
        "id": "XeTCnrBNxE10",
        "outputId": "814e4d7e-e862-4b6b-9cce-10330260541b"
      },
      "id": "XeTCnrBNxE10",
      "execution_count": null,
      "outputs": [
        {
          "output_type": "stream",
          "name": "stdout",
          "text": [
            "Threshold 0.5 → Recall: 0.173\n",
            "Threshold 0.5 → Accuracy: 0.838\n",
            "Threshold 0.5 → F1: 0.247\n",
            "Threshold 0.4 → Recall: 0.288\n",
            "Threshold 0.4 → Accuracy: 0.826\n",
            "Threshold 0.4 → F1: 0.337\n",
            "Threshold 0.3 → Recall: 0.436\n",
            "Threshold 0.3 → Accuracy: 0.796\n",
            "Threshold 0.3 → F1: 0.396\n",
            "Threshold 0.2 → Recall: 0.630\n",
            "Threshold 0.2 → Accuracy: 0.738\n",
            "Threshold 0.2 → F1: 0.425\n",
            "Threshold 0.15 → Recall: 0.715\n",
            "Threshold 0.15 → Accuracy: 0.693\n",
            "Threshold 0.15 → F1: 0.417\n",
            "Threshold 0.1 → Recall: 0.805\n",
            "Threshold 0.1 → Accuracy: 0.637\n",
            "Threshold 0.1 → F1: 0.405\n"
          ]
        }
      ]
    },
    {
      "cell_type": "code",
      "source": [
        "\n",
        "\n"
      ],
      "metadata": {
        "id": "uZ6ihpmwxXly"
      },
      "id": "uZ6ihpmwxXly",
      "execution_count": null,
      "outputs": []
    },
    {
      "cell_type": "code",
      "source": [],
      "metadata": {
        "id": "cA-ZtisyNsuZ"
      },
      "id": "cA-ZtisyNsuZ",
      "execution_count": null,
      "outputs": []
    }
  ],
  "metadata": {
    "kernelspec": {
      "display_name": "Python 3",
      "name": "python3"
    },
    "language_info": {
      "codemirror_mode": {
        "name": "ipython",
        "version": 3
      },
      "file_extension": ".py",
      "mimetype": "text/x-python",
      "name": "python",
      "nbconvert_exporter": "python",
      "pygments_lexer": "ipython3",
      "version": "3.11.0"
    },
    "colab": {
      "provenance": [],
      "gpuType": "T4"
    },
    "accelerator": "GPU"
  },
  "nbformat": 4,
  "nbformat_minor": 5
}